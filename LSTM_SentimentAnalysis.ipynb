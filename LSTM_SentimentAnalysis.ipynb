{
  "nbformat": 4,
  "nbformat_minor": 0,
  "metadata": {
    "colab": {
      "name": "SentimentAnalysis.ipynb",
      "provenance": [],
      "authorship_tag": "ABX9TyP22cXdfSH6qudUI+1OjAbH",
      "include_colab_link": true
    },
    "kernelspec": {
      "name": "python3",
      "display_name": "Python 3"
    },
    "language_info": {
      "name": "python"
    },
    "accelerator": "GPU"
  },
  "cells": [
    {
      "cell_type": "markdown",
      "metadata": {
        "id": "view-in-github",
        "colab_type": "text"
      },
      "source": [
        "<a href=\"https://colab.research.google.com/github/kumarsourav3/NLPlay-with-Transformer/blob/main/LSTM_SentimentAnalysis.ipynb\" target=\"_parent\"><img src=\"https://colab.research.google.com/assets/colab-badge.svg\" alt=\"Open In Colab\"/></a>"
      ]
    },
    {
      "cell_type": "code",
      "metadata": {
        "id": "rAMNskCo_s6J",
        "colab": {
          "base_uri": "https://localhost:8080/"
        },
        "outputId": "1fe94cb8-f1de-4547-a4cd-d23e13979368"
      },
      "source": [
        "import pandas as pd\n",
        "import numpy as np\n",
        "import matplotlib as  plt\n",
        "from google.colab import drive\n",
        "drive.mount('/content/gdrive')\n",
        "\n"
      ],
      "execution_count": 4,
      "outputs": [
        {
          "output_type": "stream",
          "text": [
            "Mounted at /content/gdrive\n"
          ],
          "name": "stdout"
        }
      ]
    },
    {
      "cell_type": "code",
      "metadata": {
        "colab": {
          "base_uri": "https://localhost:8080/"
        },
        "id": "m3dLE9xMIVKR",
        "outputId": "d03f03d7-6c83-4529-9fd4-f92a87d7b186"
      },
      "source": [
        "cd '/content/gdrive/My Drive/nlp'"
      ],
      "execution_count": 5,
      "outputs": [
        {
          "output_type": "stream",
          "text": [
            "/content/gdrive/My Drive/nlp\n"
          ],
          "name": "stdout"
        }
      ]
    },
    {
      "cell_type": "code",
      "metadata": {
        "colab": {
          "base_uri": "https://localhost:8080/",
          "height": 36
        },
        "id": "kymAdsSLI-gP",
        "outputId": "d5735590-fe4d-40c0-d177-968390e13dd4"
      },
      "source": [
        "pwd"
      ],
      "execution_count": 6,
      "outputs": [
        {
          "output_type": "execute_result",
          "data": {
            "application/vnd.google.colaboratory.intrinsic+json": {
              "type": "string"
            },
            "text/plain": [
              "'/content/gdrive/My Drive/nlp'"
            ]
          },
          "metadata": {
            "tags": []
          },
          "execution_count": 6
        }
      ]
    },
    {
      "cell_type": "code",
      "metadata": {
        "id": "F49tnMX-IzBN"
      },
      "source": [
        "df=pd.read_csv('IMDB Dataset.csv')"
      ],
      "execution_count": 7,
      "outputs": []
    },
    {
      "cell_type": "code",
      "metadata": {
        "colab": {
          "base_uri": "https://localhost:8080/",
          "height": 402
        },
        "id": "Z6E81UEWJPJ_",
        "outputId": "7a91a2f7-eb8c-4ec0-fcd7-8a9cd985354f"
      },
      "source": [
        "df"
      ],
      "execution_count": 8,
      "outputs": [
        {
          "output_type": "execute_result",
          "data": {
            "text/html": [
              "<div>\n",
              "<style scoped>\n",
              "    .dataframe tbody tr th:only-of-type {\n",
              "        vertical-align: middle;\n",
              "    }\n",
              "\n",
              "    .dataframe tbody tr th {\n",
              "        vertical-align: top;\n",
              "    }\n",
              "\n",
              "    .dataframe thead th {\n",
              "        text-align: right;\n",
              "    }\n",
              "</style>\n",
              "<table border=\"1\" class=\"dataframe\">\n",
              "  <thead>\n",
              "    <tr style=\"text-align: right;\">\n",
              "      <th></th>\n",
              "      <th>review</th>\n",
              "      <th>sentiment</th>\n",
              "    </tr>\n",
              "  </thead>\n",
              "  <tbody>\n",
              "    <tr>\n",
              "      <th>0</th>\n",
              "      <td>One of the other reviewers has mentioned that ...</td>\n",
              "      <td>positive</td>\n",
              "    </tr>\n",
              "    <tr>\n",
              "      <th>1</th>\n",
              "      <td>A wonderful little production. &lt;br /&gt;&lt;br /&gt;The...</td>\n",
              "      <td>positive</td>\n",
              "    </tr>\n",
              "    <tr>\n",
              "      <th>2</th>\n",
              "      <td>I thought this was a wonderful way to spend ti...</td>\n",
              "      <td>positive</td>\n",
              "    </tr>\n",
              "    <tr>\n",
              "      <th>3</th>\n",
              "      <td>Basically there's a family where a little boy ...</td>\n",
              "      <td>negative</td>\n",
              "    </tr>\n",
              "    <tr>\n",
              "      <th>4</th>\n",
              "      <td>Petter Mattei's \"Love in the Time of Money\" is...</td>\n",
              "      <td>positive</td>\n",
              "    </tr>\n",
              "    <tr>\n",
              "      <th>...</th>\n",
              "      <td>...</td>\n",
              "      <td>...</td>\n",
              "    </tr>\n",
              "    <tr>\n",
              "      <th>49995</th>\n",
              "      <td>I thought this movie did a down right good job...</td>\n",
              "      <td>positive</td>\n",
              "    </tr>\n",
              "    <tr>\n",
              "      <th>49996</th>\n",
              "      <td>Bad plot, bad dialogue, bad acting, idiotic di...</td>\n",
              "      <td>negative</td>\n",
              "    </tr>\n",
              "    <tr>\n",
              "      <th>49997</th>\n",
              "      <td>I am a Catholic taught in parochial elementary...</td>\n",
              "      <td>negative</td>\n",
              "    </tr>\n",
              "    <tr>\n",
              "      <th>49998</th>\n",
              "      <td>I'm going to have to disagree with the previou...</td>\n",
              "      <td>negative</td>\n",
              "    </tr>\n",
              "    <tr>\n",
              "      <th>49999</th>\n",
              "      <td>No one expects the Star Trek movies to be high...</td>\n",
              "      <td>negative</td>\n",
              "    </tr>\n",
              "  </tbody>\n",
              "</table>\n",
              "<p>50000 rows × 2 columns</p>\n",
              "</div>"
            ],
            "text/plain": [
              "                                                  review sentiment\n",
              "0      One of the other reviewers has mentioned that ...  positive\n",
              "1      A wonderful little production. <br /><br />The...  positive\n",
              "2      I thought this was a wonderful way to spend ti...  positive\n",
              "3      Basically there's a family where a little boy ...  negative\n",
              "4      Petter Mattei's \"Love in the Time of Money\" is...  positive\n",
              "...                                                  ...       ...\n",
              "49995  I thought this movie did a down right good job...  positive\n",
              "49996  Bad plot, bad dialogue, bad acting, idiotic di...  negative\n",
              "49997  I am a Catholic taught in parochial elementary...  negative\n",
              "49998  I'm going to have to disagree with the previou...  negative\n",
              "49999  No one expects the Star Trek movies to be high...  negative\n",
              "\n",
              "[50000 rows x 2 columns]"
            ]
          },
          "metadata": {
            "tags": []
          },
          "execution_count": 8
        }
      ]
    },
    {
      "cell_type": "code",
      "metadata": {
        "colab": {
          "base_uri": "https://localhost:8080/"
        },
        "id": "cnkepcltJUsZ",
        "outputId": "3ac62be5-7fc0-4601-ae7e-3656a79e91e5"
      },
      "source": [
        "df.columns"
      ],
      "execution_count": 9,
      "outputs": [
        {
          "output_type": "execute_result",
          "data": {
            "text/plain": [
              "Index(['review', 'sentiment'], dtype='object')"
            ]
          },
          "metadata": {
            "tags": []
          },
          "execution_count": 9
        }
      ]
    },
    {
      "cell_type": "code",
      "metadata": {
        "colab": {
          "base_uri": "https://localhost:8080/"
        },
        "id": "8UCgT0MqJYx8",
        "outputId": "ed777b25-b98c-42c8-c239-4706edca131c"
      },
      "source": [
        "df['sentiment'].describe()"
      ],
      "execution_count": 10,
      "outputs": [
        {
          "output_type": "execute_result",
          "data": {
            "text/plain": [
              "count        50000\n",
              "unique           2\n",
              "top       negative\n",
              "freq         25000\n",
              "Name: sentiment, dtype: object"
            ]
          },
          "metadata": {
            "tags": []
          },
          "execution_count": 10
        }
      ]
    },
    {
      "cell_type": "code",
      "metadata": {
        "colab": {
          "base_uri": "https://localhost:8080/",
          "height": 317
        },
        "id": "TBumhvC5JjMF",
        "outputId": "e6067392-3644-4d5e-e3a3-3942a439b048"
      },
      "source": [
        "pd.value_counts(df['sentiment']).plot.bar()"
      ],
      "execution_count": 11,
      "outputs": [
        {
          "output_type": "execute_result",
          "data": {
            "text/plain": [
              "<matplotlib.axes._subplots.AxesSubplot at 0x7f63400995d0>"
            ]
          },
          "metadata": {
            "tags": []
          },
          "execution_count": 11
        },
        {
          "output_type": "display_data",
          "data": {
            "image/png": "[encoded data removed]",
            "text/plain": [
              "<Figure size 432x288 with 1 Axes>"
            ]
          },
          "metadata": {
            "tags": [],
            "needs_background": "light"
          }
        }
      ]
    },
    {
      "cell_type": "code",
      "metadata": {
        "id": "EW5zKAbhJ-Kl"
      },
      "source": [
        "def map_sentiment(x):\n",
        "  if x==\"negative\":\n",
        "    return 0\n",
        "  else: return 1"
      ],
      "execution_count": 12,
      "outputs": []
    },
    {
      "cell_type": "code",
      "metadata": {
        "id": "gQa3kycvKV89"
      },
      "source": [
        "df['sentiment']=[map_sentiment(x) for x in df['sentiment']]"
      ],
      "execution_count": 13,
      "outputs": []
    },
    {
      "cell_type": "code",
      "metadata": {
        "colab": {
          "base_uri": "https://localhost:8080/"
        },
        "id": "9SApLpofKk-N",
        "outputId": "6c68eadf-1417-4f17-a243-8832c7c13ce1"
      },
      "source": [
        "df['sentiment'].value_counts()"
      ],
      "execution_count": 14,
      "outputs": [
        {
          "output_type": "execute_result",
          "data": {
            "text/plain": [
              "1    25000\n",
              "0    25000\n",
              "Name: sentiment, dtype: int64"
            ]
          },
          "metadata": {
            "tags": []
          },
          "execution_count": 14
        }
      ]
    },
    {
      "cell_type": "markdown",
      "metadata": {
        "id": "7G_duXa2SYLI"
      },
      "source": [
        "## **Text preprocessing**"
      ]
    },
    {
      "cell_type": "code",
      "metadata": {
        "colab": {
          "base_uri": "https://localhost:8080/"
        },
        "id": "-Uc15G-dKmgQ",
        "outputId": "4f8dbe1a-c9d6-4076-d1a7-7b02f7b29d7f"
      },
      "source": [
        "import nltk\n",
        "nltk.download('punkt')\n",
        "nltk.download('stopwords')\n",
        "from nltk.tokenize import word_tokenize\n",
        "from nltk.corpus import stopwords"
      ],
      "execution_count": 15,
      "outputs": [
        {
          "output_type": "stream",
          "text": [
            "[nltk_data] Downloading package punkt to /root/nltk_data...\n",
            "[nltk_data]   Unzipping tokenizers/punkt.zip.\n",
            "[nltk_data] Downloading package stopwords to /root/nltk_data...\n",
            "[nltk_data]   Unzipping corpora/stopwords.zip.\n"
          ],
          "name": "stdout"
        }
      ]
    },
    {
      "cell_type": "markdown",
      "metadata": {
        "id": "pZibRWclKJr3"
      },
      "source": [
        "**Removing punctuations and tokenizing the words.**"
      ]
    },
    {
      "cell_type": "code",
      "metadata": {
        "id": "z2rIil1-JYpZ"
      },
      "source": [
        "tokenizer=nltk.RegexpTokenizer(r\"\\w+\")"
      ],
      "execution_count": 16,
      "outputs": []
    },
    {
      "cell_type": "code",
      "metadata": {
        "colab": {
          "base_uri": "https://localhost:8080/"
        },
        "id": "llGRV_8SOsPU",
        "outputId": "7fed46c7-3ab5-4504-a527-d9c88bb8472e"
      },
      "source": [
        "for i in range(50000):\n",
        "  df['review'][i]=tokenizer.tokenize(df['review'][i])"
      ],
      "execution_count": 17,
      "outputs": [
        {
          "output_type": "stream",
          "text": [
            "/usr/local/lib/python3.7/dist-packages/ipykernel_launcher.py:2: SettingWithCopyWarning: \n",
            "A value is trying to be set on a copy of a slice from a DataFrame\n",
            "\n",
            "See the caveats in the documentation: https://pandas.pydata.org/pandas-docs/stable/user_guide/indexing.html#returning-a-view-versus-a-copy\n",
            "  \n"
          ],
          "name": "stderr"
        }
      ]
    },
    {
      "cell_type": "code",
      "metadata": {
        "id": "2flwK22RKSb8"
      },
      "source": [
        ""
      ],
      "execution_count": 17,
      "outputs": []
    },
    {
      "cell_type": "markdown",
      "metadata": {
        "id": "4mWt29jdScz5"
      },
      "source": [
        "**Removing stopwords**"
      ]
    },
    {
      "cell_type": "code",
      "metadata": {
        "id": "iUXFvmKClwiE"
      },
      "source": [
        "stop_words=set(stopwords.words('english'))"
      ],
      "execution_count": 18,
      "outputs": []
    },
    {
      "cell_type": "code",
      "metadata": {
        "id": "vMthJPJQSzUn"
      },
      "source": [
        "df['review']=df['review'].apply(lambda x: [item for item in x if item not in stop_words])"
      ],
      "execution_count": 19,
      "outputs": []
    },
    {
      "cell_type": "code",
      "metadata": {
        "id": "apTboZXtKqDG"
      },
      "source": [
        ""
      ],
      "execution_count": 19,
      "outputs": []
    },
    {
      "cell_type": "code",
      "metadata": {
        "id": "Jgu2jqoGU0oG"
      },
      "source": [
        "from nltk.stem import PorterStemmer\n",
        "stemming=PorterStemmer()"
      ],
      "execution_count": 20,
      "outputs": []
    },
    {
      "cell_type": "markdown",
      "metadata": {
        "id": "fiXs9mYmSgSZ"
      },
      "source": [
        "**Stemming**"
      ]
    },
    {
      "cell_type": "code",
      "metadata": {
        "id": "-uczFDhfoTdF"
      },
      "source": [
        "def stem_list(row):\n",
        "    my_list = row['review']\n",
        "    stemmed_list = [stemming.stem(word) for word in my_list]\n",
        "    return (stemmed_list)\n",
        "\n",
        "df['review'] = df.apply(stem_list, axis=1)"
      ],
      "execution_count": 21,
      "outputs": []
    },
    {
      "cell_type": "code",
      "metadata": {
        "colab": {
          "base_uri": "https://localhost:8080/"
        },
        "id": "Qx6ZIJI-rnvM",
        "outputId": "5c2577b5-abda-4a75-aded-2ef88f287cef"
      },
      "source": [
        "df['review'].describe()"
      ],
      "execution_count": 22,
      "outputs": [
        {
          "output_type": "execute_result",
          "data": {
            "text/plain": [
              "count                                                 50000\n",
              "unique                                                49577\n",
              "top       [love, today, show, It, varieti, sole, cook, w...\n",
              "freq                                                      5\n",
              "Name: review, dtype: object"
            ]
          },
          "metadata": {
            "tags": []
          },
          "execution_count": 22
        }
      ]
    },
    {
      "cell_type": "markdown",
      "metadata": {
        "id": "d-kvG4MRSjKI"
      },
      "source": [
        "# **Making dictionary**"
      ]
    },
    {
      "cell_type": "code",
      "metadata": {
        "id": "VXqILTsBnU4P"
      },
      "source": [
        "from collections import Counter"
      ],
      "execution_count": 23,
      "outputs": []
    },
    {
      "cell_type": "code",
      "metadata": {
        "id": "Pr3ZAEYqM_m4"
      },
      "source": [
        "words=Counter()\n",
        "for i in range(50000):\n",
        "  for word in df['review'][i]:\n",
        "    words.update([word.lower()])"
      ],
      "execution_count": 24,
      "outputs": []
    },
    {
      "cell_type": "code",
      "metadata": {
        "colab": {
          "base_uri": "https://localhost:8080/"
        },
        "id": "IFDMx8zdoZHh",
        "outputId": "e05ac6a4-7768-42e0-fc73-47e298585928"
      },
      "source": [
        "len(words)"
      ],
      "execution_count": 25,
      "outputs": [
        {
          "output_type": "execute_result",
          "data": {
            "text/plain": [
              "71583"
            ]
          },
          "metadata": {
            "tags": []
          },
          "execution_count": 25
        }
      ]
    },
    {
      "cell_type": "code",
      "metadata": {
        "id": "iBCa3aWjpCtl"
      },
      "source": [
        "words={k:v for (k,v) in words.items() if v>1}"
      ],
      "execution_count": 26,
      "outputs": []
    },
    {
      "cell_type": "code",
      "metadata": {
        "colab": {
          "base_uri": "https://localhost:8080/"
        },
        "id": "x3_dgtTwpCkg",
        "outputId": "dab9a2af-94fa-42d1-e5c8-fe48baf6ca60"
      },
      "source": [
        "len(words)"
      ],
      "execution_count": 27,
      "outputs": [
        {
          "output_type": "execute_result",
          "data": {
            "text/plain": [
              "43025"
            ]
          },
          "metadata": {
            "tags": []
          },
          "execution_count": 27
        }
      ]
    },
    {
      "cell_type": "code",
      "metadata": {
        "id": "JFM4Gb5evdQ2"
      },
      "source": [
        ""
      ],
      "execution_count": 27,
      "outputs": []
    },
    {
      "cell_type": "code",
      "metadata": {
        "id": "PCSclH23rUAu"
      },
      "source": [
        "words['_PAD']=0\n",
        "words['_UNK']=0"
      ],
      "execution_count": 28,
      "outputs": []
    },
    {
      "cell_type": "code",
      "metadata": {
        "id": "NKlhhrF6vukM"
      },
      "source": [
        "words=sorted(words, key=words.get, reverse=True)"
      ],
      "execution_count": 29,
      "outputs": []
    },
    {
      "cell_type": "code",
      "metadata": {
        "colab": {
          "base_uri": "https://localhost:8080/"
        },
        "id": "JJidAwhDuoxe",
        "outputId": "76ea1039-58e5-4ba9-af51-defd6ea9dd1c"
      },
      "source": [
        "len(words)"
      ],
      "execution_count": 30,
      "outputs": [
        {
          "output_type": "execute_result",
          "data": {
            "text/plain": [
              "43027"
            ]
          },
          "metadata": {
            "tags": []
          },
          "execution_count": 30
        }
      ]
    },
    {
      "cell_type": "code",
      "metadata": {
        "id": "L-NMlD5Lp7S6"
      },
      "source": [
        "w2idx= {o:i for i,o in enumerate(words)}"
      ],
      "execution_count": 31,
      "outputs": []
    },
    {
      "cell_type": "code",
      "metadata": {
        "id": "SFC41l56vQyq"
      },
      "source": [
        ""
      ],
      "execution_count": 31,
      "outputs": []
    },
    {
      "cell_type": "markdown",
      "metadata": {
        "id": "4KhmZvrbSpam"
      },
      "source": [
        "# **Indexing words from dictionary**"
      ]
    },
    {
      "cell_type": "code",
      "metadata": {
        "colab": {
          "base_uri": "https://localhost:8080/"
        },
        "id": "wB8aWuzvvQuq",
        "outputId": "bae75bf0-2408-4dfa-f68a-0a0a7d266e20"
      },
      "source": [
        "for i in range(50000):\n",
        "  df['review'][i]=[w2idx[word] if word in w2idx else 0 for word in  df['review'][i]]"
      ],
      "execution_count": 32,
      "outputs": [
        {
          "output_type": "stream",
          "text": [
            "/usr/local/lib/python3.7/dist-packages/ipykernel_launcher.py:2: SettingWithCopyWarning: \n",
            "A value is trying to be set on a copy of a slice from a DataFrame\n",
            "\n",
            "See the caveats in the documentation: https://pandas.pydata.org/pandas-docs/stable/user_guide/indexing.html#returning-a-view-versus-a-copy\n",
            "  \n"
          ],
          "name": "stderr"
        }
      ]
    },
    {
      "cell_type": "markdown",
      "metadata": {
        "id": "qx2p2_7yRfcP"
      },
      "source": [
        "# **Padding the sequence**"
      ]
    },
    {
      "cell_type": "code",
      "metadata": {
        "id": "iS0kPPsMvQsA"
      },
      "source": [
        "def pad_input(sentences, seq_size):\n",
        "    features=np.zeros((len(sentences), seq_size), dtype=int)\n",
        "    for ii, word in enumerate(sentences):\n",
        "      if len(word)!=0:\n",
        "        features[ii, -len(word):] = np.array(word)[ :seq_size]\n",
        "    return features\n"
      ],
      "execution_count": 33,
      "outputs": []
    },
    {
      "cell_type": "code",
      "metadata": {
        "colab": {
          "base_uri": "https://localhost:8080/",
          "height": 402
        },
        "id": "QskpG6J8vQlK",
        "outputId": "a143c1e4-58ba-4755-b1b4-6cb4bd92d29e"
      },
      "source": [
        "df"
      ],
      "execution_count": 34,
      "outputs": [
        {
          "output_type": "execute_result",
          "data": {
            "text/html": [
              "<div>\n",
              "<style scoped>\n",
              "    .dataframe tbody tr th:only-of-type {\n",
              "        vertical-align: middle;\n",
              "    }\n",
              "\n",
              "    .dataframe tbody tr th {\n",
              "        vertical-align: top;\n",
              "    }\n",
              "\n",
              "    .dataframe thead th {\n",
              "        text-align: right;\n",
              "    }\n",
              "</style>\n",
              "<table border=\"1\" class=\"dataframe\">\n",
              "  <thead>\n",
              "    <tr style=\"text-align: right;\">\n",
              "      <th></th>\n",
              "      <th>review</th>\n",
              "      <th>sentiment</th>\n",
              "    </tr>\n",
              "  </thead>\n",
              "  <tbody>\n",
              "    <tr>\n",
              "      <th>0</th>\n",
              "      <td>[5, 262, 387, 15, 257, 0, 210, 1680, 136, 123,...</td>\n",
              "      <td>1</td>\n",
              "    </tr>\n",
              "    <tr>\n",
              "      <th>1</th>\n",
              "      <td>[0, 120, 60, 227, 0, 0, 4, 3, 1673, 13010, 83,...</td>\n",
              "      <td>1</td>\n",
              "    </tr>\n",
              "    <tr>\n",
              "      <th>2</th>\n",
              "      <td>[0, 106, 120, 36, 711, 8, 831, 1389, 2281, 468...</td>\n",
              "      <td>1</td>\n",
              "    </tr>\n",
              "    <tr>\n",
              "      <th>3</th>\n",
              "      <td>[426, 144, 60, 230, 2906, 33, 561, 3213, 623, ...</td>\n",
              "      <td>0</td>\n",
              "    </tr>\n",
              "    <tr>\n",
              "      <th>4</th>\n",
              "      <td>[0, 8202, 30, 8, 232, 553, 1164, 3, 15, 0, 820...</td>\n",
              "      <td>1</td>\n",
              "    </tr>\n",
              "    <tr>\n",
              "      <th>...</th>\n",
              "      <td>...</td>\n",
              "      <td>...</td>\n",
              "    </tr>\n",
              "    <tr>\n",
              "      <th>49995</th>\n",
              "      <td>[0, 106, 2, 123, 9, 216, 0, 1159, 104, 32, 166...</td>\n",
              "      <td>1</td>\n",
              "    </tr>\n",
              "    <tr>\n",
              "      <th>49996</th>\n",
              "      <td>[26, 46, 26, 361, 26, 34, 1138, 109, 485, 1430...</td>\n",
              "      <td>0</td>\n",
              "    </tr>\n",
              "    <tr>\n",
              "      <th>49997</th>\n",
              "      <td>[0, 2822, 3743, 21989, 6558, 325, 3766, 3743, ...</td>\n",
              "      <td>0</td>\n",
              "    </tr>\n",
              "    <tr>\n",
              "      <th>49998</th>\n",
              "      <td>[0, 29, 2489, 913, 353, 392, 7886, 5, 10, 238,...</td>\n",
              "      <td>0</td>\n",
              "    </tr>\n",
              "    <tr>\n",
              "      <th>49999</th>\n",
              "      <td>[0, 5, 166, 92, 1919, 2, 249, 369, 131, 166, 2...</td>\n",
              "      <td>0</td>\n",
              "    </tr>\n",
              "  </tbody>\n",
              "</table>\n",
              "<p>50000 rows × 2 columns</p>\n",
              "</div>"
            ],
            "text/plain": [
              "                                                  review  sentiment\n",
              "0      [5, 262, 387, 15, 257, 0, 210, 1680, 136, 123,...          1\n",
              "1      [0, 120, 60, 227, 0, 0, 4, 3, 1673, 13010, 83,...          1\n",
              "2      [0, 106, 120, 36, 711, 8, 831, 1389, 2281, 468...          1\n",
              "3      [426, 144, 60, 230, 2906, 33, 561, 3213, 623, ...          0\n",
              "4      [0, 8202, 30, 8, 232, 553, 1164, 3, 15, 0, 820...          1\n",
              "...                                                  ...        ...\n",
              "49995  [0, 106, 2, 123, 9, 216, 0, 1159, 104, 32, 166...          1\n",
              "49996  [26, 46, 26, 361, 26, 34, 1138, 109, 485, 1430...          0\n",
              "49997  [0, 2822, 3743, 21989, 6558, 325, 3766, 3743, ...          0\n",
              "49998  [0, 29, 2489, 913, 353, 392, 7886, 5, 10, 238,...          0\n",
              "49999  [0, 5, 166, 92, 1919, 2, 249, 369, 131, 166, 2...          0\n",
              "\n",
              "[50000 rows x 2 columns]"
            ]
          },
          "metadata": {
            "tags": []
          },
          "execution_count": 34
        }
      ]
    },
    {
      "cell_type": "code",
      "metadata": {
        "id": "HA973hAjvQVn"
      },
      "source": [
        ""
      ],
      "execution_count": 34,
      "outputs": []
    },
    {
      "cell_type": "markdown",
      "metadata": {
        "id": "aPIBjXLERoPH"
      },
      "source": [
        "# **Splitting the train and test sets**"
      ]
    },
    {
      "cell_type": "code",
      "metadata": {
        "id": "83zkTUFnsXD-"
      },
      "source": [
        "from sklearn.model_selection import train_test_split\n",
        "X_train, X_test, Y_train, Y_test=train_test_split(df['review'],df['sentiment'],test_size=0.3, random_state=15)"
      ],
      "execution_count": 35,
      "outputs": []
    },
    {
      "cell_type": "code",
      "metadata": {
        "id": "-ERoLojuBfIf"
      },
      "source": [
        "X_train_pad= pad_input(X_train, 200)\n",
        "X_test_pad=pad_input(X_test,200)"
      ],
      "execution_count": 36,
      "outputs": []
    },
    {
      "cell_type": "code",
      "metadata": {
        "id": "BhzL0OfoBrWe"
      },
      "source": [
        "Y_train=np.array(Y_train)\n",
        "Y_test=np.array(Y_test)"
      ],
      "execution_count": 37,
      "outputs": []
    },
    {
      "cell_type": "code",
      "metadata": {
        "id": "-_AQ4p8fsXlW"
      },
      "source": [
        ""
      ],
      "execution_count": 37,
      "outputs": []
    },
    {
      "cell_type": "markdown",
      "metadata": {
        "id": "yvJOFJ2uRsCz"
      },
      "source": [
        "**Import lstm modules from pytorch**"
      ]
    },
    {
      "cell_type": "code",
      "metadata": {
        "id": "1CagLL3vLHZl"
      },
      "source": [
        "import torch\n",
        "import torch.nn as nn\n",
        "import torch.nn.functional as F\n",
        "import torch.optim as optim\n",
        "from torch.utils.data import TensorDataset, DataLoader\n"
      ],
      "execution_count": 65,
      "outputs": []
    },
    {
      "cell_type": "code",
      "metadata": {
        "id": "lQeA-IlNLlPM"
      },
      "source": [
        "train_data= TensorDataset(torch.from_numpy(X_train_pad), torch.from_numpy(Y_train))\n",
        "test_data= TensorDataset(torch.from_numpy(X_test_pad), torch.from_numpy(Y_test))"
      ],
      "execution_count": 83,
      "outputs": []
    },
    {
      "cell_type": "code",
      "metadata": {
        "id": "RwLx-dIRkU6c"
      },
      "source": [
        "batch_size=400"
      ],
      "execution_count": 84,
      "outputs": []
    },
    {
      "cell_type": "code",
      "metadata": {
        "id": "G3TfZnsYMFC1"
      },
      "source": [
        "train_loader= DataLoader(train_data, shuffle=True, batch_size=batch_size, drop_last=True)\n",
        "test_loader= DataLoader(test_data, shuffle=True, batch_size=batch_size, drop_last=True)"
      ],
      "execution_count": 85,
      "outputs": []
    },
    {
      "cell_type": "code",
      "metadata": {
        "id": "NzY6O0-8nbfP"
      },
      "source": [
        ""
      ],
      "execution_count": 85,
      "outputs": []
    },
    {
      "cell_type": "code",
      "metadata": {
        "id": "L1GN2lFH64MJ"
      },
      "source": [
        "is_cuda=torch.cuda.is_available()\n",
        "if is_cuda:\n",
        "  device=torch.device(\"cuda\")\n",
        "else: device=torch.device(\"cpu\")"
      ],
      "execution_count": 86,
      "outputs": []
    },
    {
      "cell_type": "code",
      "metadata": {
        "colab": {
          "base_uri": "https://localhost:8080/"
        },
        "id": "eXJEjIRhkz0r",
        "outputId": "99810f09-fe30-4eda-95e9-d56d8cbca72a"
      },
      "source": [
        "device"
      ],
      "execution_count": 87,
      "outputs": [
        {
          "output_type": "execute_result",
          "data": {
            "text/plain": [
              "device(type='cuda')"
            ]
          },
          "metadata": {
            "tags": []
          },
          "execution_count": 87
        }
      ]
    },
    {
      "cell_type": "markdown",
      "metadata": {
        "id": "S7rW2m4ARysA"
      },
      "source": [
        "# **Building the model**\n",
        "\n"
      ]
    },
    {
      "cell_type": "code",
      "metadata": {
        "id": "UL9uUa_OhFTr"
      },
      "source": [
        "class SentimentNet(nn.Module):\n",
        "    def __init__(self,vocab_size, output_size, embedding_dim, hidden_dim, n_layers, drop_prob=0.5):\n",
        "      super(SentimentNet, self).__init__()\n",
        "      self.output_size = output_size\n",
        "      self.n_layers = n_layers\n",
        "      self.hidden_dim = hidden_dim\n",
        "\n",
        "      self.embedding = nn.Embedding(vocab_size, embedding_dim)\n",
        "      self.lstm=nn.LSTM(embedding_dim,hidden_dim, n_layers, dropout=drop_prob, batch_first=True)\n",
        "      self.dropout=nn.Dropout(drop_prob)\n",
        "      self.fc= nn.Linear(hidden_dim, output_size)\n",
        "      self.sigmoid= nn.Sigmoid()\n",
        "\n",
        "    def forward(self, x, hidden):\n",
        "      batch_size= x.size(0)\n",
        "      x=x.long()\n",
        "      embeds= self.embedding(x)\n",
        "      lstm_out, hidden= self.lstm(embeds, hidden)\n",
        "      lstm_out= lstm_out.contiguous().view(-1, self.hidden_dim)\n",
        "\n",
        "      out= self.dropout(lstm_out)\n",
        "      out =self.fc(out)\n",
        "      out= self.sigmoid(out)\n",
        "\n",
        "      out= out.view(batch_size, -1)\n",
        "      out=out[:, -1]\n",
        "      return out, hidden\n",
        "    \n",
        "    def init_hidden(self, batch_size):\n",
        "      weight= next(self.parameters()).data\n",
        "      hidden= (weight.new(self.n_layers, batch_size, self.hidden_dim).zero_().cuda(), \n",
        "                 weight.new(self.n_layers, batch_size, self.hidden_dim).zero_().cuda())\n",
        "      return hidden\n",
        "\n"
      ],
      "execution_count": 92,
      "outputs": []
    },
    {
      "cell_type": "code",
      "metadata": {
        "id": "xUyU22rJnYXS"
      },
      "source": [
        "vocab_size= len(w2idx)+1\n",
        "output_size= 1\n",
        "embedding_dim= 400\n",
        "hidden_dim = 512\n",
        "n_layers=2\n",
        "\n",
        "model= SentimentNet(vocab_size, output_size, embedding_dim, hidden_dim, n_layers)\n",
        "model.to(device)\n",
        "\n",
        "lr=0.005\n",
        "criterion= nn.BCELoss()\n",
        "optimizer= torch.optim.Adam(model.parameters(), lr=lr)\n"
      ],
      "execution_count": 93,
      "outputs": []
    },
    {
      "cell_type": "markdown",
      "metadata": {
        "id": "mp1B6Lv6SHwR"
      },
      "source": [
        "## **Training**"
      ]
    },
    {
      "cell_type": "code",
      "metadata": {
        "colab": {
          "base_uri": "https://localhost:8080/"
        },
        "id": "G1BGXvxioHWD",
        "outputId": "7f16833b-0588-4f29-d063-38ea5aa363d2"
      },
      "source": [
        "epochs=3\n",
        "counter=0\n",
        "clip=5\n",
        "print_every=1000\n",
        "loss_at_epoch=[]\n",
        "for i in range(epochs):\n",
        "    train_losses=[]\n",
        "    train_acc=0\n",
        "    model.train()\n",
        "    h=model.init_hidden(batch_size)\n",
        "    for inputs, labels in train_loader:\n",
        "        counter+=1\n",
        "        h= tuple([e.data for e in h])\n",
        "        inputs, labels = inputs.to(device), labels.to(device)\n",
        "        model.zero_grad()\n",
        "        output, h= model(inputs, h)\n",
        "        loss = criterion(output.squeeze(), labels.float())\n",
        "        train_losses.append(loss.item())\n",
        "        pred= torch.round(output.squeeze())\n",
        "        train_acc += torch.sum(pred == labels.squeeze()).item()\n",
        "        num_train_correct=np.sum(correct)\n",
        "        loss.backward()\n",
        "        nn.utils.clip_grad_norm_(model.parameters(), clip)\n",
        "        optimizer.step()\n",
        "    epoch_loss = np.mean(train_losses)\n",
        "    loss_at_epoch.append(epoch_loss)\n",
        "  #accuracy at the end of one epoch\n",
        "    epoch_acc = train_acc/len(train_loader.dataset)\n",
        "    print('Epoch :'+str(i+1))\n",
        "    print('loss = '+str(epoch_loss))\n",
        "    print(\"accuracy = \"+str(epoch_acc))\n",
        "\n",
        "\n"
      ],
      "execution_count": 112,
      "outputs": [
        {
          "output_type": "stream",
          "text": [
            "Epoch :1\n",
            "loss = 0.031648966874499085\n",
            "accuracy = 0.9836285714285714\n",
            "Epoch :2\n",
            "loss = 0.014329641840645465\n",
            "accuracy = 0.9896571428571429\n",
            "Epoch :3\n",
            "loss = 0.013316382213773998\n",
            "accuracy = 0.9899142857142857\n"
          ],
          "name": "stdout"
        }
      ]
    },
    {
      "cell_type": "markdown",
      "metadata": {
        "id": "2YWDc7eMSN6-"
      },
      "source": [
        "# **Testing**"
      ]
    },
    {
      "cell_type": "code",
      "metadata": {
        "colab": {
          "base_uri": "https://localhost:8080/"
        },
        "id": "Ny10ZAEUpsQF",
        "outputId": "19ce79b9-5e90-469a-8307-ad4191d32629"
      },
      "source": [
        "\n",
        "test_loss = []\n",
        "test_acc = 0\n",
        "model.eval() \n",
        "for inputs,labels in test_loader:\n",
        "    h = tuple(e.data for e in h)\n",
        "    inputs,labels = inputs.to(device),labels.to(device)\n",
        "    # calculating the output\n",
        "    output,h = model(inputs,h)\n",
        "    loss = criterion(output.squeeze(),labels.float())\n",
        "    test_loss.append(loss.item())\n",
        "    prediction = torch.round(output.squeeze())\n",
        "    test_acc += torch.sum(prediction == labels.squeeze()).item()\n",
        "loss = np.mean(test_loss)\n",
        "accuracy = test_acc/len(test_loader.dataset)\n",
        "print('loss'+str(loss))\n",
        "print('test accuracy'+str(accuracy))"
      ],
      "execution_count": 113,
      "outputs": [
        {
          "output_type": "stream",
          "text": [
            "loss0.7420661240010649\n",
            "test accuracy0.8534\n"
          ],
          "name": "stdout"
        }
      ]
    },
    {
      "cell_type": "code",
      "metadata": {
        "id": "40jvbEz3_J__"
      },
      "source": [
        ""
      ],
      "execution_count": null,
      "outputs": []
    }
  ]
}