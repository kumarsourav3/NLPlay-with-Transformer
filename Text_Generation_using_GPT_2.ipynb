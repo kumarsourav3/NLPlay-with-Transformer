{
  "nbformat": 4,
  "nbformat_minor": 0,
  "metadata": {
    "colab": {
      "name": "Text Generation using GPT-2.ipynb",
      "provenance": [],
      "collapsed_sections": [],
      "mount_file_id": "1Qx5ir90hv8pJUSsz0W_abFmzdrpgF270",
      "authorship_tag": "ABX9TyMvHLNzmn+Txeo0PjgSVZFQ"
    },
    "kernelspec": {
      "name": "python3",
      "display_name": "Python 3"
    },
    "language_info": {
      "name": "python"
    },
    "widgets": {
      "application/vnd.jupyter.widget-state+json": {
        "841870831f1043728fd27194e6d3abc0": {
          "model_module": "@jupyter-widgets/controls",
          "model_name": "HBoxModel",
          "state": {
            "_view_name": "HBoxView",
            "_dom_classes": [],
            "_model_name": "HBoxModel",
            "_view_module": "@jupyter-widgets/controls",
            "_model_module_version": "1.5.0",
            "_view_count": null,
            "_view_module_version": "1.5.0",
            "box_style": "",
            "layout": "IPY_MODEL_97a58204bc674608a13ccd65cfd3aba6",
            "_model_module": "@jupyter-widgets/controls",
            "children": [
              "IPY_MODEL_31b18a8a4ae94323a01e147c7f25a522",
              "IPY_MODEL_72e9e99444b44ae4b258d1139dc6d9b2"
            ]
          }
        },
        "97a58204bc674608a13ccd65cfd3aba6": {
          "model_module": "@jupyter-widgets/base",
          "model_name": "LayoutModel",
          "state": {
            "_view_name": "LayoutView",
            "grid_template_rows": null,
            "right": null,
            "justify_content": null,
            "_view_module": "@jupyter-widgets/base",
            "overflow": null,
            "_model_module_version": "1.2.0",
            "_view_count": null,
            "flex_flow": null,
            "width": null,
            "min_width": null,
            "border": null,
            "align_items": null,
            "bottom": null,
            "_model_module": "@jupyter-widgets/base",
            "top": null,
            "grid_column": null,
            "overflow_y": null,
            "overflow_x": null,
            "grid_auto_flow": null,
            "grid_area": null,
            "grid_template_columns": null,
            "flex": null,
            "_model_name": "LayoutModel",
            "justify_items": null,
            "grid_row": null,
            "max_height": null,
            "align_content": null,
            "visibility": null,
            "align_self": null,
            "height": null,
            "min_height": null,
            "padding": null,
            "grid_auto_rows": null,
            "grid_gap": null,
            "max_width": null,
            "order": null,
            "_view_module_version": "1.2.0",
            "grid_template_areas": null,
            "object_position": null,
            "object_fit": null,
            "grid_auto_columns": null,
            "margin": null,
            "display": null,
            "left": null
          }
        },
        "31b18a8a4ae94323a01e147c7f25a522": {
          "model_module": "@jupyter-widgets/controls",
          "model_name": "FloatProgressModel",
          "state": {
            "_view_name": "ProgressView",
            "style": "IPY_MODEL_d413896e590a4d7ab9567f43501b4256",
            "_dom_classes": [],
            "description": "Downloading: 100%",
            "_model_name": "FloatProgressModel",
            "bar_style": "success",
            "max": 1042301,
            "_view_module": "@jupyter-widgets/controls",
            "_model_module_version": "1.5.0",
            "value": 1042301,
            "_view_count": null,
            "_view_module_version": "1.5.0",
            "orientation": "horizontal",
            "min": 0,
            "description_tooltip": null,
            "_model_module": "@jupyter-widgets/controls",
            "layout": "IPY_MODEL_67d81bfd3a2848a18e67f6e21ec92776"
          }
        },
        "72e9e99444b44ae4b258d1139dc6d9b2": {
          "model_module": "@jupyter-widgets/controls",
          "model_name": "HTMLModel",
          "state": {
            "_view_name": "HTMLView",
            "style": "IPY_MODEL_57934357a6cd4b1996f597a83329d4c3",
            "_dom_classes": [],
            "description": "",
            "_model_name": "HTMLModel",
            "placeholder": "​",
            "_view_module": "@jupyter-widgets/controls",
            "_model_module_version": "1.5.0",
            "value": " 1.04M/1.04M [00:02&lt;00:00, 367kB/s]",
            "_view_count": null,
            "_view_module_version": "1.5.0",
            "description_tooltip": null,
            "_model_module": "@jupyter-widgets/controls",
            "layout": "IPY_MODEL_40b25bfbcebf4e66a78e4a450577a5a6"
          }
        },
        "d413896e590a4d7ab9567f43501b4256": {
          "model_module": "@jupyter-widgets/controls",
          "model_name": "ProgressStyleModel",
          "state": {
            "_view_name": "StyleView",
            "_model_name": "ProgressStyleModel",
            "description_width": "initial",
            "_view_module": "@jupyter-widgets/base",
            "_model_module_version": "1.5.0",
            "_view_count": null,
            "_view_module_version": "1.2.0",
            "bar_color": null,
            "_model_module": "@jupyter-widgets/controls"
          }
        },
        "67d81bfd3a2848a18e67f6e21ec92776": {
          "model_module": "@jupyter-widgets/base",
          "model_name": "LayoutModel",
          "state": {
            "_view_name": "LayoutView",
            "grid_template_rows": null,
            "right": null,
            "justify_content": null,
            "_view_module": "@jupyter-widgets/base",
            "overflow": null,
            "_model_module_version": "1.2.0",
            "_view_count": null,
            "flex_flow": null,
            "width": null,
            "min_width": null,
            "border": null,
            "align_items": null,
            "bottom": null,
            "_model_module": "@jupyter-widgets/base",
            "top": null,
            "grid_column": null,
            "overflow_y": null,
            "overflow_x": null,
            "grid_auto_flow": null,
            "grid_area": null,
            "grid_template_columns": null,
            "flex": null,
            "_model_name": "LayoutModel",
            "justify_items": null,
            "grid_row": null,
            "max_height": null,
            "align_content": null,
            "visibility": null,
            "align_self": null,
            "height": null,
            "min_height": null,
            "padding": null,
            "grid_auto_rows": null,
            "grid_gap": null,
            "max_width": null,
            "order": null,
            "_view_module_version": "1.2.0",
            "grid_template_areas": null,
            "object_position": null,
            "object_fit": null,
            "grid_auto_columns": null,
            "margin": null,
            "display": null,
            "left": null
          }
        },
        "57934357a6cd4b1996f597a83329d4c3": {
          "model_module": "@jupyter-widgets/controls",
          "model_name": "DescriptionStyleModel",
          "state": {
            "_view_name": "StyleView",
            "_model_name": "DescriptionStyleModel",
            "description_width": "",
            "_view_module": "@jupyter-widgets/base",
            "_model_module_version": "1.5.0",
            "_view_count": null,
            "_view_module_version": "1.2.0",
            "_model_module": "@jupyter-widgets/controls"
          }
        },
        "40b25bfbcebf4e66a78e4a450577a5a6": {
          "model_module": "@jupyter-widgets/base",
          "model_name": "LayoutModel",
          "state": {
            "_view_name": "LayoutView",
            "grid_template_rows": null,
            "right": null,
            "justify_content": null,
            "_view_module": "@jupyter-widgets/base",
            "overflow": null,
            "_model_module_version": "1.2.0",
            "_view_count": null,
            "flex_flow": null,
            "width": null,
            "min_width": null,
            "border": null,
            "align_items": null,
            "bottom": null,
            "_model_module": "@jupyter-widgets/base",
            "top": null,
            "grid_column": null,
            "overflow_y": null,
            "overflow_x": null,
            "grid_auto_flow": null,
            "grid_area": null,
            "grid_template_columns": null,
            "flex": null,
            "_model_name": "LayoutModel",
            "justify_items": null,
            "grid_row": null,
            "max_height": null,
            "align_content": null,
            "visibility": null,
            "align_self": null,
            "height": null,
            "min_height": null,
            "padding": null,
            "grid_auto_rows": null,
            "grid_gap": null,
            "max_width": null,
            "order": null,
            "_view_module_version": "1.2.0",
            "grid_template_areas": null,
            "object_position": null,
            "object_fit": null,
            "grid_auto_columns": null,
            "margin": null,
            "display": null,
            "left": null
          }
        },
        "649873fe64754b18b4eb30da18fba68f": {
          "model_module": "@jupyter-widgets/controls",
          "model_name": "HBoxModel",
          "state": {
            "_view_name": "HBoxView",
            "_dom_classes": [],
            "_model_name": "HBoxModel",
            "_view_module": "@jupyter-widgets/controls",
            "_model_module_version": "1.5.0",
            "_view_count": null,
            "_view_module_version": "1.5.0",
            "box_style": "",
            "layout": "IPY_MODEL_55208ce8207b4d54939d84300f34b20f",
            "_model_module": "@jupyter-widgets/controls",
            "children": [
              "IPY_MODEL_e62ba2b094864b17b798dc188cf2d78c",
              "IPY_MODEL_58a5b4e25f5e436b972dafa39b33383f"
            ]
          }
        },
        "55208ce8207b4d54939d84300f34b20f": {
          "model_module": "@jupyter-widgets/base",
          "model_name": "LayoutModel",
          "state": {
            "_view_name": "LayoutView",
            "grid_template_rows": null,
            "right": null,
            "justify_content": null,
            "_view_module": "@jupyter-widgets/base",
            "overflow": null,
            "_model_module_version": "1.2.0",
            "_view_count": null,
            "flex_flow": null,
            "width": null,
            "min_width": null,
            "border": null,
            "align_items": null,
            "bottom": null,
            "_model_module": "@jupyter-widgets/base",
            "top": null,
            "grid_column": null,
            "overflow_y": null,
            "overflow_x": null,
            "grid_auto_flow": null,
            "grid_area": null,
            "grid_template_columns": null,
            "flex": null,
            "_model_name": "LayoutModel",
            "justify_items": null,
            "grid_row": null,
            "max_height": null,
            "align_content": null,
            "visibility": null,
            "align_self": null,
            "height": null,
            "min_height": null,
            "padding": null,
            "grid_auto_rows": null,
            "grid_gap": null,
            "max_width": null,
            "order": null,
            "_view_module_version": "1.2.0",
            "grid_template_areas": null,
            "object_position": null,
            "object_fit": null,
            "grid_auto_columns": null,
            "margin": null,
            "display": null,
            "left": null
          }
        },
        "e62ba2b094864b17b798dc188cf2d78c": {
          "model_module": "@jupyter-widgets/controls",
          "model_name": "FloatProgressModel",
          "state": {
            "_view_name": "ProgressView",
            "style": "IPY_MODEL_8344a5808c294eab94384ac5f5b8d778",
            "_dom_classes": [],
            "description": "Downloading: 100%",
            "_model_name": "FloatProgressModel",
            "bar_style": "success",
            "max": 456318,
            "_view_module": "@jupyter-widgets/controls",
            "_model_module_version": "1.5.0",
            "value": 456318,
            "_view_count": null,
            "_view_module_version": "1.5.0",
            "orientation": "horizontal",
            "min": 0,
            "description_tooltip": null,
            "_model_module": "@jupyter-widgets/controls",
            "layout": "IPY_MODEL_a1bd21afee1546e4a5e11ef4d8d859ac"
          }
        },
        "58a5b4e25f5e436b972dafa39b33383f": {
          "model_module": "@jupyter-widgets/controls",
          "model_name": "HTMLModel",
          "state": {
            "_view_name": "HTMLView",
            "style": "IPY_MODEL_fd61ec809bc148498878a9453ba4e500",
            "_dom_classes": [],
            "description": "",
            "_model_name": "HTMLModel",
            "placeholder": "​",
            "_view_module": "@jupyter-widgets/controls",
            "_model_module_version": "1.5.0",
            "value": " 456k/456k [00:01&lt;00:00, 276kB/s]",
            "_view_count": null,
            "_view_module_version": "1.5.0",
            "description_tooltip": null,
            "_model_module": "@jupyter-widgets/controls",
            "layout": "IPY_MODEL_a905dee9e12c43daa44a235ce7ad40fd"
          }
        },
        "8344a5808c294eab94384ac5f5b8d778": {
          "model_module": "@jupyter-widgets/controls",
          "model_name": "ProgressStyleModel",
          "state": {
            "_view_name": "StyleView",
            "_model_name": "ProgressStyleModel",
            "description_width": "initial",
            "_view_module": "@jupyter-widgets/base",
            "_model_module_version": "1.5.0",
            "_view_count": null,
            "_view_module_version": "1.2.0",
            "bar_color": null,
            "_model_module": "@jupyter-widgets/controls"
          }
        },
        "a1bd21afee1546e4a5e11ef4d8d859ac": {
          "model_module": "@jupyter-widgets/base",
          "model_name": "LayoutModel",
          "state": {
            "_view_name": "LayoutView",
            "grid_template_rows": null,
            "right": null,
            "justify_content": null,
            "_view_module": "@jupyter-widgets/base",
            "overflow": null,
            "_model_module_version": "1.2.0",
            "_view_count": null,
            "flex_flow": null,
            "width": null,
            "min_width": null,
            "border": null,
            "align_items": null,
            "bottom": null,
            "_model_module": "@jupyter-widgets/base",
            "top": null,
            "grid_column": null,
            "overflow_y": null,
            "overflow_x": null,
            "grid_auto_flow": null,
            "grid_area": null,
            "grid_template_columns": null,
            "flex": null,
            "_model_name": "LayoutModel",
            "justify_items": null,
            "grid_row": null,
            "max_height": null,
            "align_content": null,
            "visibility": null,
            "align_self": null,
            "height": null,
            "min_height": null,
            "padding": null,
            "grid_auto_rows": null,
            "grid_gap": null,
            "max_width": null,
            "order": null,
            "_view_module_version": "1.2.0",
            "grid_template_areas": null,
            "object_position": null,
            "object_fit": null,
            "grid_auto_columns": null,
            "margin": null,
            "display": null,
            "left": null
          }
        },
        "fd61ec809bc148498878a9453ba4e500": {
          "model_module": "@jupyter-widgets/controls",
          "model_name": "DescriptionStyleModel",
          "state": {
            "_view_name": "StyleView",
            "_model_name": "DescriptionStyleModel",
            "description_width": "",
            "_view_module": "@jupyter-widgets/base",
            "_model_module_version": "1.5.0",
            "_view_count": null,
            "_view_module_version": "1.2.0",
            "_model_module": "@jupyter-widgets/controls"
          }
        },
        "a905dee9e12c43daa44a235ce7ad40fd": {
          "model_module": "@jupyter-widgets/base",
          "model_name": "LayoutModel",
          "state": {
            "_view_name": "LayoutView",
            "grid_template_rows": null,
            "right": null,
            "justify_content": null,
            "_view_module": "@jupyter-widgets/base",
            "overflow": null,
            "_model_module_version": "1.2.0",
            "_view_count": null,
            "flex_flow": null,
            "width": null,
            "min_width": null,
            "border": null,
            "align_items": null,
            "bottom": null,
            "_model_module": "@jupyter-widgets/base",
            "top": null,
            "grid_column": null,
            "overflow_y": null,
            "overflow_x": null,
            "grid_auto_flow": null,
            "grid_area": null,
            "grid_template_columns": null,
            "flex": null,
            "_model_name": "LayoutModel",
            "justify_items": null,
            "grid_row": null,
            "max_height": null,
            "align_content": null,
            "visibility": null,
            "align_self": null,
            "height": null,
            "min_height": null,
            "padding": null,
            "grid_auto_rows": null,
            "grid_gap": null,
            "max_width": null,
            "order": null,
            "_view_module_version": "1.2.0",
            "grid_template_areas": null,
            "object_position": null,
            "object_fit": null,
            "grid_auto_columns": null,
            "margin": null,
            "display": null,
            "left": null
          }
        },
        "a49cb7798484457e8786debb5c40d5a6": {
          "model_module": "@jupyter-widgets/controls",
          "model_name": "HBoxModel",
          "state": {
            "_view_name": "HBoxView",
            "_dom_classes": [],
            "_model_name": "HBoxModel",
            "_view_module": "@jupyter-widgets/controls",
            "_model_module_version": "1.5.0",
            "_view_count": null,
            "_view_module_version": "1.5.0",
            "box_style": "",
            "layout": "IPY_MODEL_7d262b397a794ef7b82fe4ea0fe54601",
            "_model_module": "@jupyter-widgets/controls",
            "children": [
              "IPY_MODEL_4db7e49e5ba54fd58a379663a550e406",
              "IPY_MODEL_36ce8c2d563e493abec647632e169576"
            ]
          }
        },
        "7d262b397a794ef7b82fe4ea0fe54601": {
          "model_module": "@jupyter-widgets/base",
          "model_name": "LayoutModel",
          "state": {
            "_view_name": "LayoutView",
            "grid_template_rows": null,
            "right": null,
            "justify_content": null,
            "_view_module": "@jupyter-widgets/base",
            "overflow": null,
            "_model_module_version": "1.2.0",
            "_view_count": null,
            "flex_flow": null,
            "width": null,
            "min_width": null,
            "border": null,
            "align_items": null,
            "bottom": null,
            "_model_module": "@jupyter-widgets/base",
            "top": null,
            "grid_column": null,
            "overflow_y": null,
            "overflow_x": null,
            "grid_auto_flow": null,
            "grid_area": null,
            "grid_template_columns": null,
            "flex": null,
            "_model_name": "LayoutModel",
            "justify_items": null,
            "grid_row": null,
            "max_height": null,
            "align_content": null,
            "visibility": null,
            "align_self": null,
            "height": null,
            "min_height": null,
            "padding": null,
            "grid_auto_rows": null,
            "grid_gap": null,
            "max_width": null,
            "order": null,
            "_view_module_version": "1.2.0",
            "grid_template_areas": null,
            "object_position": null,
            "object_fit": null,
            "grid_auto_columns": null,
            "margin": null,
            "display": null,
            "left": null
          }
        },
        "4db7e49e5ba54fd58a379663a550e406": {
          "model_module": "@jupyter-widgets/controls",
          "model_name": "FloatProgressModel",
          "state": {
            "_view_name": "ProgressView",
            "style": "IPY_MODEL_4575abd7b0a64bbabd9b1f650edae4dc",
            "_dom_classes": [],
            "description": "Downloading: 100%",
            "_model_name": "FloatProgressModel",
            "bar_style": "success",
            "max": 1355256,
            "_view_module": "@jupyter-widgets/controls",
            "_model_module_version": "1.5.0",
            "value": 1355256,
            "_view_count": null,
            "_view_module_version": "1.5.0",
            "orientation": "horizontal",
            "min": 0,
            "description_tooltip": null,
            "_model_module": "@jupyter-widgets/controls",
            "layout": "IPY_MODEL_74c309436cb24a6ab99d6c270cbe7ba8"
          }
        },
        "36ce8c2d563e493abec647632e169576": {
          "model_module": "@jupyter-widgets/controls",
          "model_name": "HTMLModel",
          "state": {
            "_view_name": "HTMLView",
            "style": "IPY_MODEL_c8f596e7fa924243b65a38478854dd8a",
            "_dom_classes": [],
            "description": "",
            "_model_name": "HTMLModel",
            "placeholder": "​",
            "_view_module": "@jupyter-widgets/controls",
            "_model_module_version": "1.5.0",
            "value": " 1.36M/1.36M [00:00&lt;00:00, 4.18MB/s]",
            "_view_count": null,
            "_view_module_version": "1.5.0",
            "description_tooltip": null,
            "_model_module": "@jupyter-widgets/controls",
            "layout": "IPY_MODEL_534e007c8f74499d9161af534ea6e814"
          }
        },
        "4575abd7b0a64bbabd9b1f650edae4dc": {
          "model_module": "@jupyter-widgets/controls",
          "model_name": "ProgressStyleModel",
          "state": {
            "_view_name": "StyleView",
            "_model_name": "ProgressStyleModel",
            "description_width": "initial",
            "_view_module": "@jupyter-widgets/base",
            "_model_module_version": "1.5.0",
            "_view_count": null,
            "_view_module_version": "1.2.0",
            "bar_color": null,
            "_model_module": "@jupyter-widgets/controls"
          }
        },
        "74c309436cb24a6ab99d6c270cbe7ba8": {
          "model_module": "@jupyter-widgets/base",
          "model_name": "LayoutModel",
          "state": {
            "_view_name": "LayoutView",
            "grid_template_rows": null,
            "right": null,
            "justify_content": null,
            "_view_module": "@jupyter-widgets/base",
            "overflow": null,
            "_model_module_version": "1.2.0",
            "_view_count": null,
            "flex_flow": null,
            "width": null,
            "min_width": null,
            "border": null,
            "align_items": null,
            "bottom": null,
            "_model_module": "@jupyter-widgets/base",
            "top": null,
            "grid_column": null,
            "overflow_y": null,
            "overflow_x": null,
            "grid_auto_flow": null,
            "grid_area": null,
            "grid_template_columns": null,
            "flex": null,
            "_model_name": "LayoutModel",
            "justify_items": null,
            "grid_row": null,
            "max_height": null,
            "align_content": null,
            "visibility": null,
            "align_self": null,
            "height": null,
            "min_height": null,
            "padding": null,
            "grid_auto_rows": null,
            "grid_gap": null,
            "max_width": null,
            "order": null,
            "_view_module_version": "1.2.0",
            "grid_template_areas": null,
            "object_position": null,
            "object_fit": null,
            "grid_auto_columns": null,
            "margin": null,
            "display": null,
            "left": null
          }
        },
        "c8f596e7fa924243b65a38478854dd8a": {
          "model_module": "@jupyter-widgets/controls",
          "model_name": "DescriptionStyleModel",
          "state": {
            "_view_name": "StyleView",
            "_model_name": "DescriptionStyleModel",
            "description_width": "",
            "_view_module": "@jupyter-widgets/base",
            "_model_module_version": "1.5.0",
            "_view_count": null,
            "_view_module_version": "1.2.0",
            "_model_module": "@jupyter-widgets/controls"
          }
        },
        "534e007c8f74499d9161af534ea6e814": {
          "model_module": "@jupyter-widgets/base",
          "model_name": "LayoutModel",
          "state": {
            "_view_name": "LayoutView",
            "grid_template_rows": null,
            "right": null,
            "justify_content": null,
            "_view_module": "@jupyter-widgets/base",
            "overflow": null,
            "_model_module_version": "1.2.0",
            "_view_count": null,
            "flex_flow": null,
            "width": null,
            "min_width": null,
            "border": null,
            "align_items": null,
            "bottom": null,
            "_model_module": "@jupyter-widgets/base",
            "top": null,
            "grid_column": null,
            "overflow_y": null,
            "overflow_x": null,
            "grid_auto_flow": null,
            "grid_area": null,
            "grid_template_columns": null,
            "flex": null,
            "_model_name": "LayoutModel",
            "justify_items": null,
            "grid_row": null,
            "max_height": null,
            "align_content": null,
            "visibility": null,
            "align_self": null,
            "height": null,
            "min_height": null,
            "padding": null,
            "grid_auto_rows": null,
            "grid_gap": null,
            "max_width": null,
            "order": null,
            "_view_module_version": "1.2.0",
            "grid_template_areas": null,
            "object_position": null,
            "object_fit": null,
            "grid_auto_columns": null,
            "margin": null,
            "display": null,
            "left": null
          }
        },
        "a63e84f2d79643419626c31402a99373": {
          "model_module": "@jupyter-widgets/controls",
          "model_name": "HBoxModel",
          "state": {
            "_view_name": "HBoxView",
            "_dom_classes": [],
            "_model_name": "HBoxModel",
            "_view_module": "@jupyter-widgets/controls",
            "_model_module_version": "1.5.0",
            "_view_count": null,
            "_view_module_version": "1.5.0",
            "box_style": "",
            "layout": "IPY_MODEL_4d0e0263876e4109936e138cb01fb085",
            "_model_module": "@jupyter-widgets/controls",
            "children": [
              "IPY_MODEL_f3ec143b1b004678ac539548657fbc8e",
              "IPY_MODEL_680529f39db8456887ece329ded3d4cc"
            ]
          }
        },
        "4d0e0263876e4109936e138cb01fb085": {
          "model_module": "@jupyter-widgets/base",
          "model_name": "LayoutModel",
          "state": {
            "_view_name": "LayoutView",
            "grid_template_rows": null,
            "right": null,
            "justify_content": null,
            "_view_module": "@jupyter-widgets/base",
            "overflow": null,
            "_model_module_version": "1.2.0",
            "_view_count": null,
            "flex_flow": null,
            "width": null,
            "min_width": null,
            "border": null,
            "align_items": null,
            "bottom": null,
            "_model_module": "@jupyter-widgets/base",
            "top": null,
            "grid_column": null,
            "overflow_y": null,
            "overflow_x": null,
            "grid_auto_flow": null,
            "grid_area": null,
            "grid_template_columns": null,
            "flex": null,
            "_model_name": "LayoutModel",
            "justify_items": null,
            "grid_row": null,
            "max_height": null,
            "align_content": null,
            "visibility": null,
            "align_self": null,
            "height": null,
            "min_height": null,
            "padding": null,
            "grid_auto_rows": null,
            "grid_gap": null,
            "max_width": null,
            "order": null,
            "_view_module_version": "1.2.0",
            "grid_template_areas": null,
            "object_position": null,
            "object_fit": null,
            "grid_auto_columns": null,
            "margin": null,
            "display": null,
            "left": null
          }
        },
        "f3ec143b1b004678ac539548657fbc8e": {
          "model_module": "@jupyter-widgets/controls",
          "model_name": "FloatProgressModel",
          "state": {
            "_view_name": "ProgressView",
            "style": "IPY_MODEL_6c5cac108e2048258ad149cf84bc5da9",
            "_dom_classes": [],
            "description": "Downloading: 100%",
            "_model_name": "FloatProgressModel",
            "bar_style": "success",
            "max": 718,
            "_view_module": "@jupyter-widgets/controls",
            "_model_module_version": "1.5.0",
            "value": 718,
            "_view_count": null,
            "_view_module_version": "1.5.0",
            "orientation": "horizontal",
            "min": 0,
            "description_tooltip": null,
            "_model_module": "@jupyter-widgets/controls",
            "layout": "IPY_MODEL_32796fea1f3a4313b4dad4b934b609b3"
          }
        },
        "680529f39db8456887ece329ded3d4cc": {
          "model_module": "@jupyter-widgets/controls",
          "model_name": "HTMLModel",
          "state": {
            "_view_name": "HTMLView",
            "style": "IPY_MODEL_3c1c5d2bb61e435b9059d6595ea2513d",
            "_dom_classes": [],
            "description": "",
            "_model_name": "HTMLModel",
            "placeholder": "​",
            "_view_module": "@jupyter-widgets/controls",
            "_model_module_version": "1.5.0",
            "value": " 718/718 [00:34&lt;00:00, 20.5B/s]",
            "_view_count": null,
            "_view_module_version": "1.5.0",
            "description_tooltip": null,
            "_model_module": "@jupyter-widgets/controls",
            "layout": "IPY_MODEL_d0a7de4fd8f84c4bb14e7e958d9afd10"
          }
        },
        "6c5cac108e2048258ad149cf84bc5da9": {
          "model_module": "@jupyter-widgets/controls",
          "model_name": "ProgressStyleModel",
          "state": {
            "_view_name": "StyleView",
            "_model_name": "ProgressStyleModel",
            "description_width": "initial",
            "_view_module": "@jupyter-widgets/base",
            "_model_module_version": "1.5.0",
            "_view_count": null,
            "_view_module_version": "1.2.0",
            "bar_color": null,
            "_model_module": "@jupyter-widgets/controls"
          }
        },
        "32796fea1f3a4313b4dad4b934b609b3": {
          "model_module": "@jupyter-widgets/base",
          "model_name": "LayoutModel",
          "state": {
            "_view_name": "LayoutView",
            "grid_template_rows": null,
            "right": null,
            "justify_content": null,
            "_view_module": "@jupyter-widgets/base",
            "overflow": null,
            "_model_module_version": "1.2.0",
            "_view_count": null,
            "flex_flow": null,
            "width": null,
            "min_width": null,
            "border": null,
            "align_items": null,
            "bottom": null,
            "_model_module": "@jupyter-widgets/base",
            "top": null,
            "grid_column": null,
            "overflow_y": null,
            "overflow_x": null,
            "grid_auto_flow": null,
            "grid_area": null,
            "grid_template_columns": null,
            "flex": null,
            "_model_name": "LayoutModel",
            "justify_items": null,
            "grid_row": null,
            "max_height": null,
            "align_content": null,
            "visibility": null,
            "align_self": null,
            "height": null,
            "min_height": null,
            "padding": null,
            "grid_auto_rows": null,
            "grid_gap": null,
            "max_width": null,
            "order": null,
            "_view_module_version": "1.2.0",
            "grid_template_areas": null,
            "object_position": null,
            "object_fit": null,
            "grid_auto_columns": null,
            "margin": null,
            "display": null,
            "left": null
          }
        },
        "3c1c5d2bb61e435b9059d6595ea2513d": {
          "model_module": "@jupyter-widgets/controls",
          "model_name": "DescriptionStyleModel",
          "state": {
            "_view_name": "StyleView",
            "_model_name": "DescriptionStyleModel",
            "description_width": "",
            "_view_module": "@jupyter-widgets/base",
            "_model_module_version": "1.5.0",
            "_view_count": null,
            "_view_module_version": "1.2.0",
            "_model_module": "@jupyter-widgets/controls"
          }
        },
        "d0a7de4fd8f84c4bb14e7e958d9afd10": {
          "model_module": "@jupyter-widgets/base",
          "model_name": "LayoutModel",
          "state": {
            "_view_name": "LayoutView",
            "grid_template_rows": null,
            "right": null,
            "justify_content": null,
            "_view_module": "@jupyter-widgets/base",
            "overflow": null,
            "_model_module_version": "1.2.0",
            "_view_count": null,
            "flex_flow": null,
            "width": null,
            "min_width": null,
            "border": null,
            "align_items": null,
            "bottom": null,
            "_model_module": "@jupyter-widgets/base",
            "top": null,
            "grid_column": null,
            "overflow_y": null,
            "overflow_x": null,
            "grid_auto_flow": null,
            "grid_area": null,
            "grid_template_columns": null,
            "flex": null,
            "_model_name": "LayoutModel",
            "justify_items": null,
            "grid_row": null,
            "max_height": null,
            "align_content": null,
            "visibility": null,
            "align_self": null,
            "height": null,
            "min_height": null,
            "padding": null,
            "grid_auto_rows": null,
            "grid_gap": null,
            "max_width": null,
            "order": null,
            "_view_module_version": "1.2.0",
            "grid_template_areas": null,
            "object_position": null,
            "object_fit": null,
            "grid_auto_columns": null,
            "margin": null,
            "display": null,
            "left": null
          }
        },
        "5aa8f8be8f3c42b0bd4f032b30607cd3": {
          "model_module": "@jupyter-widgets/controls",
          "model_name": "HBoxModel",
          "state": {
            "_view_name": "HBoxView",
            "_dom_classes": [],
            "_model_name": "HBoxModel",
            "_view_module": "@jupyter-widgets/controls",
            "_model_module_version": "1.5.0",
            "_view_count": null,
            "_view_module_version": "1.5.0",
            "box_style": "",
            "layout": "IPY_MODEL_3effd83aa8f0485c993151fd0764ce7b",
            "_model_module": "@jupyter-widgets/controls",
            "children": [
              "IPY_MODEL_dd1a5440925044da97c6c0e42b02f611",
              "IPY_MODEL_fe9f4e1b6abc4cad9715e99b28051fa7"
            ]
          }
        },
        "3effd83aa8f0485c993151fd0764ce7b": {
          "model_module": "@jupyter-widgets/base",
          "model_name": "LayoutModel",
          "state": {
            "_view_name": "LayoutView",
            "grid_template_rows": null,
            "right": null,
            "justify_content": null,
            "_view_module": "@jupyter-widgets/base",
            "overflow": null,
            "_model_module_version": "1.2.0",
            "_view_count": null,
            "flex_flow": null,
            "width": null,
            "min_width": null,
            "border": null,
            "align_items": null,
            "bottom": null,
            "_model_module": "@jupyter-widgets/base",
            "top": null,
            "grid_column": null,
            "overflow_y": null,
            "overflow_x": null,
            "grid_auto_flow": null,
            "grid_area": null,
            "grid_template_columns": null,
            "flex": null,
            "_model_name": "LayoutModel",
            "justify_items": null,
            "grid_row": null,
            "max_height": null,
            "align_content": null,
            "visibility": null,
            "align_self": null,
            "height": null,
            "min_height": null,
            "padding": null,
            "grid_auto_rows": null,
            "grid_gap": null,
            "max_width": null,
            "order": null,
            "_view_module_version": "1.2.0",
            "grid_template_areas": null,
            "object_position": null,
            "object_fit": null,
            "grid_auto_columns": null,
            "margin": null,
            "display": null,
            "left": null
          }
        },
        "dd1a5440925044da97c6c0e42b02f611": {
          "model_module": "@jupyter-widgets/controls",
          "model_name": "FloatProgressModel",
          "state": {
            "_view_name": "ProgressView",
            "style": "IPY_MODEL_370ad2531baf42439f7238fefa66e634",
            "_dom_classes": [],
            "description": "Downloading: 100%",
            "_model_name": "FloatProgressModel",
            "bar_style": "success",
            "max": 1520013706,
            "_view_module": "@jupyter-widgets/controls",
            "_model_module_version": "1.5.0",
            "value": 1520013706,
            "_view_count": null,
            "_view_module_version": "1.5.0",
            "orientation": "horizontal",
            "min": 0,
            "description_tooltip": null,
            "_model_module": "@jupyter-widgets/controls",
            "layout": "IPY_MODEL_4f2fb79dfb91411fb1c3c4c606ddc5f4"
          }
        },
        "fe9f4e1b6abc4cad9715e99b28051fa7": {
          "model_module": "@jupyter-widgets/controls",
          "model_name": "HTMLModel",
          "state": {
            "_view_name": "HTMLView",
            "style": "IPY_MODEL_1b538f349b6347599484caadd1c86787",
            "_dom_classes": [],
            "description": "",
            "_model_name": "HTMLModel",
            "placeholder": "​",
            "_view_module": "@jupyter-widgets/controls",
            "_model_module_version": "1.5.0",
            "value": " 1.52G/1.52G [00:31&lt;00:00, 47.9MB/s]",
            "_view_count": null,
            "_view_module_version": "1.5.0",
            "description_tooltip": null,
            "_model_module": "@jupyter-widgets/controls",
            "layout": "IPY_MODEL_17d35277abe144aa8058b8f9ec41e0d3"
          }
        },
        "370ad2531baf42439f7238fefa66e634": {
          "model_module": "@jupyter-widgets/controls",
          "model_name": "ProgressStyleModel",
          "state": {
            "_view_name": "StyleView",
            "_model_name": "ProgressStyleModel",
            "description_width": "initial",
            "_view_module": "@jupyter-widgets/base",
            "_model_module_version": "1.5.0",
            "_view_count": null,
            "_view_module_version": "1.2.0",
            "bar_color": null,
            "_model_module": "@jupyter-widgets/controls"
          }
        },
        "4f2fb79dfb91411fb1c3c4c606ddc5f4": {
          "model_module": "@jupyter-widgets/base",
          "model_name": "LayoutModel",
          "state": {
            "_view_name": "LayoutView",
            "grid_template_rows": null,
            "right": null,
            "justify_content": null,
            "_view_module": "@jupyter-widgets/base",
            "overflow": null,
            "_model_module_version": "1.2.0",
            "_view_count": null,
            "flex_flow": null,
            "width": null,
            "min_width": null,
            "border": null,
            "align_items": null,
            "bottom": null,
            "_model_module": "@jupyter-widgets/base",
            "top": null,
            "grid_column": null,
            "overflow_y": null,
            "overflow_x": null,
            "grid_auto_flow": null,
            "grid_area": null,
            "grid_template_columns": null,
            "flex": null,
            "_model_name": "LayoutModel",
            "justify_items": null,
            "grid_row": null,
            "max_height": null,
            "align_content": null,
            "visibility": null,
            "align_self": null,
            "height": null,
            "min_height": null,
            "padding": null,
            "grid_auto_rows": null,
            "grid_gap": null,
            "max_width": null,
            "order": null,
            "_view_module_version": "1.2.0",
            "grid_template_areas": null,
            "object_position": null,
            "object_fit": null,
            "grid_auto_columns": null,
            "margin": null,
            "display": null,
            "left": null
          }
        },
        "1b538f349b6347599484caadd1c86787": {
          "model_module": "@jupyter-widgets/controls",
          "model_name": "DescriptionStyleModel",
          "state": {
            "_view_name": "StyleView",
            "_model_name": "DescriptionStyleModel",
            "description_width": "",
            "_view_module": "@jupyter-widgets/base",
            "_model_module_version": "1.5.0",
            "_view_count": null,
            "_view_module_version": "1.2.0",
            "_model_module": "@jupyter-widgets/controls"
          }
        },
        "17d35277abe144aa8058b8f9ec41e0d3": {
          "model_module": "@jupyter-widgets/base",
          "model_name": "LayoutModel",
          "state": {
            "_view_name": "LayoutView",
            "grid_template_rows": null,
            "right": null,
            "justify_content": null,
            "_view_module": "@jupyter-widgets/base",
            "overflow": null,
            "_model_module_version": "1.2.0",
            "_view_count": null,
            "flex_flow": null,
            "width": null,
            "min_width": null,
            "border": null,
            "align_items": null,
            "bottom": null,
            "_model_module": "@jupyter-widgets/base",
            "top": null,
            "grid_column": null,
            "overflow_y": null,
            "overflow_x": null,
            "grid_auto_flow": null,
            "grid_area": null,
            "grid_template_columns": null,
            "flex": null,
            "_model_name": "LayoutModel",
            "justify_items": null,
            "grid_row": null,
            "max_height": null,
            "align_content": null,
            "visibility": null,
            "align_self": null,
            "height": null,
            "min_height": null,
            "padding": null,
            "grid_auto_rows": null,
            "grid_gap": null,
            "max_width": null,
            "order": null,
            "_view_module_version": "1.2.0",
            "grid_template_areas": null,
            "object_position": null,
            "object_fit": null,
            "grid_auto_columns": null,
            "margin": null,
            "display": null,
            "left": null
          }
        }
      }
    },
    "accelerator": "GPU"
  },
  "cells": [
    {
      "cell_type": "markdown",
      "metadata": {
        "id": "Ip8zgKSPXmof"
      },
      "source": [
        "### TEXT GENERATION USING GPT-2"
      ]
    },
    {
      "cell_type": "code",
      "metadata": {
        "id": "Ot8vGK6NeH0G",
        "colab": {
          "base_uri": "https://localhost:8080/"
        },
        "outputId": "34871198-6dd8-49b4-d00e-0ff9e86e61ab"
      },
      "source": [
        "!pip install transformers "
      ],
      "execution_count": null,
      "outputs": [
        {
          "output_type": "stream",
          "text": [
            "Collecting transformers\n",
            "\u001b[?25l  Downloading https://files.pythonhosted.org/packages/fd/1a/41c644c963249fd7f3836d926afa1e3f1cc234a1c40d80c5f03ad8f6f1b2/transformers-4.8.2-py3-none-any.whl (2.5MB)\n",
            "\u001b[K     |████████████████████████████████| 2.5MB 9.2MB/s \n",
            "\u001b[?25hRequirement already satisfied: numpy>=1.17 in /usr/local/lib/python3.7/dist-packages (from transformers) (1.19.5)\n",
            "Collecting tokenizers<0.11,>=0.10.1\n",
            "\u001b[?25l  Downloading https://files.pythonhosted.org/packages/d4/e2/df3543e8ffdab68f5acc73f613de9c2b155ac47f162e725dcac87c521c11/tokenizers-0.10.3-cp37-cp37m-manylinux_2_5_x86_64.manylinux1_x86_64.manylinux_2_12_x86_64.manylinux2010_x86_64.whl (3.3MB)\n",
            "\u001b[K     |████████████████████████████████| 3.3MB 39.0MB/s \n",
            "\u001b[?25hCollecting sacremoses\n",
            "\u001b[?25l  Downloading https://files.pythonhosted.org/packages/75/ee/67241dc87f266093c533a2d4d3d69438e57d7a90abb216fa076e7d475d4a/sacremoses-0.0.45-py3-none-any.whl (895kB)\n",
            "\u001b[K     |████████████████████████████████| 901kB 51.8MB/s \n",
            "\u001b[?25hRequirement already satisfied: pyyaml in /usr/local/lib/python3.7/dist-packages (from transformers) (3.13)\n",
            "Requirement already satisfied: packaging in /usr/local/lib/python3.7/dist-packages (from transformers) (21.0)\n",
            "Requirement already satisfied: regex!=2019.12.17 in /usr/local/lib/python3.7/dist-packages (from transformers) (2019.12.20)\n",
            "Requirement already satisfied: requests in /usr/local/lib/python3.7/dist-packages (from transformers) (2.23.0)\n",
            "Collecting huggingface-hub==0.0.12\n",
            "  Downloading https://files.pythonhosted.org/packages/2f/ee/97e253668fda9b17e968b3f97b2f8e53aa0127e8807d24a547687423fe0b/huggingface_hub-0.0.12-py3-none-any.whl\n",
            "Requirement already satisfied: filelock in /usr/local/lib/python3.7/dist-packages (from transformers) (3.0.12)\n",
            "Requirement already satisfied: importlib-metadata; python_version < \"3.8\" in /usr/local/lib/python3.7/dist-packages (from transformers) (4.6.1)\n",
            "Requirement already satisfied: tqdm>=4.27 in /usr/local/lib/python3.7/dist-packages (from transformers) (4.41.1)\n",
            "Requirement already satisfied: six in /usr/local/lib/python3.7/dist-packages (from sacremoses->transformers) (1.15.0)\n",
            "Requirement already satisfied: joblib in /usr/local/lib/python3.7/dist-packages (from sacremoses->transformers) (1.0.1)\n",
            "Requirement already satisfied: click in /usr/local/lib/python3.7/dist-packages (from sacremoses->transformers) (7.1.2)\n",
            "Requirement already satisfied: pyparsing>=2.0.2 in /usr/local/lib/python3.7/dist-packages (from packaging->transformers) (2.4.7)\n",
            "Requirement already satisfied: chardet<4,>=3.0.2 in /usr/local/lib/python3.7/dist-packages (from requests->transformers) (3.0.4)\n",
            "Requirement already satisfied: idna<3,>=2.5 in /usr/local/lib/python3.7/dist-packages (from requests->transformers) (2.10)\n",
            "Requirement already satisfied: certifi>=2017.4.17 in /usr/local/lib/python3.7/dist-packages (from requests->transformers) (2021.5.30)\n",
            "Requirement already satisfied: urllib3!=1.25.0,!=1.25.1,<1.26,>=1.21.1 in /usr/local/lib/python3.7/dist-packages (from requests->transformers) (1.24.3)\n",
            "Requirement already satisfied: typing-extensions in /usr/local/lib/python3.7/dist-packages (from huggingface-hub==0.0.12->transformers) (3.7.4.3)\n",
            "Requirement already satisfied: zipp>=0.5 in /usr/local/lib/python3.7/dist-packages (from importlib-metadata; python_version < \"3.8\"->transformers) (3.5.0)\n",
            "Installing collected packages: tokenizers, sacremoses, huggingface-hub, transformers\n",
            "Successfully installed huggingface-hub-0.0.12 sacremoses-0.0.45 tokenizers-0.10.3 transformers-4.8.2\n"
          ],
          "name": "stdout"
        }
      ]
    },
    {
      "cell_type": "code",
      "metadata": {
        "id": "cwaNCVBltZir"
      },
      "source": [
        "from transformers import GPT2LMHeadModel ,GPT2Tokenizer\n",
        "import pandas as pd\n",
        "from nltk.translate.bleu_score import SmoothingFunction, corpus_bleu, sentence_bleu\n",
        "import torch "
      ],
      "execution_count": null,
      "outputs": []
    },
    {
      "cell_type": "code",
      "metadata": {
        "id": "K8NGZSAUFHME"
      },
      "source": [
        "Dataset = pd.read_excel('/content/drive/MyDrive/DATASET/Input/DATASET.xlsx')\n",
        "df = pd.DataFrame(Dataset)"
      ],
      "execution_count": null,
      "outputs": []
    },
    {
      "cell_type": "code",
      "metadata": {
        "colab": {
          "base_uri": "https://localhost:8080/",
          "height": 265,
          "referenced_widgets": [
            "841870831f1043728fd27194e6d3abc0",
            "97a58204bc674608a13ccd65cfd3aba6",
            "31b18a8a4ae94323a01e147c7f25a522",
            "72e9e99444b44ae4b258d1139dc6d9b2",
            "d413896e590a4d7ab9567f43501b4256",
            "67d81bfd3a2848a18e67f6e21ec92776",
            "57934357a6cd4b1996f597a83329d4c3",
            "40b25bfbcebf4e66a78e4a450577a5a6",
            "649873fe64754b18b4eb30da18fba68f",
            "55208ce8207b4d54939d84300f34b20f",
            "e62ba2b094864b17b798dc188cf2d78c",
            "58a5b4e25f5e436b972dafa39b33383f",
            "8344a5808c294eab94384ac5f5b8d778",
            "a1bd21afee1546e4a5e11ef4d8d859ac",
            "fd61ec809bc148498878a9453ba4e500",
            "a905dee9e12c43daa44a235ce7ad40fd",
            "a49cb7798484457e8786debb5c40d5a6",
            "7d262b397a794ef7b82fe4ea0fe54601",
            "4db7e49e5ba54fd58a379663a550e406",
            "36ce8c2d563e493abec647632e169576",
            "4575abd7b0a64bbabd9b1f650edae4dc",
            "74c309436cb24a6ab99d6c270cbe7ba8",
            "c8f596e7fa924243b65a38478854dd8a",
            "534e007c8f74499d9161af534ea6e814",
            "a63e84f2d79643419626c31402a99373",
            "4d0e0263876e4109936e138cb01fb085",
            "f3ec143b1b004678ac539548657fbc8e",
            "680529f39db8456887ece329ded3d4cc",
            "6c5cac108e2048258ad149cf84bc5da9",
            "32796fea1f3a4313b4dad4b934b609b3",
            "3c1c5d2bb61e435b9059d6595ea2513d",
            "d0a7de4fd8f84c4bb14e7e958d9afd10",
            "5aa8f8be8f3c42b0bd4f032b30607cd3",
            "3effd83aa8f0485c993151fd0764ce7b",
            "dd1a5440925044da97c6c0e42b02f611",
            "fe9f4e1b6abc4cad9715e99b28051fa7",
            "370ad2531baf42439f7238fefa66e634",
            "4f2fb79dfb91411fb1c3c4c606ddc5f4",
            "1b538f349b6347599484caadd1c86787",
            "17d35277abe144aa8058b8f9ec41e0d3"
          ]
        },
        "id": "EBk5ICEQtwWD",
        "outputId": "bf09d42c-244d-442a-d570-bc649b4fcb3d"
      },
      "source": [
        "tokenizer = GPT2Tokenizer.from_pretrained('gpt2-medium')\n",
        "model = GPT2LMHeadModel.from_pretrained('gpt2-medium',pad_token_id = tokenizer.eos_token_id)\n"
      ],
      "execution_count": null,
      "outputs": [
        {
          "output_type": "display_data",
          "data": {
            "application/vnd.jupyter.widget-view+json": {
              "model_id": "841870831f1043728fd27194e6d3abc0",
              "version_minor": 0,
              "version_major": 2
            },
            "text/plain": [
              "HBox(children=(FloatProgress(value=0.0, description='Downloading', max=1042301.0, style=ProgressStyle(descript…"
            ]
          },
          "metadata": {
            "tags": []
          }
        },
        {
          "output_type": "stream",
          "text": [
            "\n"
          ],
          "name": "stdout"
        },
        {
          "output_type": "display_data",
          "data": {
            "application/vnd.jupyter.widget-view+json": {
              "model_id": "649873fe64754b18b4eb30da18fba68f",
              "version_minor": 0,
              "version_major": 2
            },
            "text/plain": [
              "HBox(children=(FloatProgress(value=0.0, description='Downloading', max=456318.0, style=ProgressStyle(descripti…"
            ]
          },
          "metadata": {
            "tags": []
          }
        },
        {
          "output_type": "stream",
          "text": [
            "\n"
          ],
          "name": "stdout"
        },
        {
          "output_type": "display_data",
          "data": {
            "application/vnd.jupyter.widget-view+json": {
              "model_id": "a49cb7798484457e8786debb5c40d5a6",
              "version_minor": 0,
              "version_major": 2
            },
            "text/plain": [
              "HBox(children=(FloatProgress(value=0.0, description='Downloading', max=1355256.0, style=ProgressStyle(descript…"
            ]
          },
          "metadata": {
            "tags": []
          }
        },
        {
          "output_type": "stream",
          "text": [
            "\n"
          ],
          "name": "stdout"
        },
        {
          "output_type": "display_data",
          "data": {
            "application/vnd.jupyter.widget-view+json": {
              "model_id": "a63e84f2d79643419626c31402a99373",
              "version_minor": 0,
              "version_major": 2
            },
            "text/plain": [
              "HBox(children=(FloatProgress(value=0.0, description='Downloading', max=718.0, style=ProgressStyle(description_…"
            ]
          },
          "metadata": {
            "tags": []
          }
        },
        {
          "output_type": "stream",
          "text": [
            "\n"
          ],
          "name": "stdout"
        },
        {
          "output_type": "display_data",
          "data": {
            "application/vnd.jupyter.widget-view+json": {
              "model_id": "5aa8f8be8f3c42b0bd4f032b30607cd3",
              "version_minor": 0,
              "version_major": 2
            },
            "text/plain": [
              "HBox(children=(FloatProgress(value=0.0, description='Downloading', max=1520013706.0, style=ProgressStyle(descr…"
            ]
          },
          "metadata": {
            "tags": []
          }
        },
        {
          "output_type": "stream",
          "text": [
            "\n"
          ],
          "name": "stdout"
        }
      ]
    },
    {
      "cell_type": "code",
      "metadata": {
        "id": "OdNH3ssnlSGr"
      },
      "source": [
        "device = torch.device('cuda')\n",
        "model = model.to(device)"
      ],
      "execution_count": null,
      "outputs": []
    },
    {
      "cell_type": "code",
      "metadata": {
        "colab": {
          "base_uri": "https://localhost:8080/",
          "height": 36
        },
        "id": "e94dhgfOIDzW",
        "outputId": "17028089-22dd-446f-dcec-74eb79aa33ea"
      },
      "source": [
        "Dataset['Scientific Literature'][4][:120]"
      ],
      "execution_count": null,
      "outputs": [
        {
          "output_type": "execute_result",
          "data": {
            "application/vnd.google.colaboratory.intrinsic+json": {
              "type": "string"
            },
            "text/plain": [
              "'(Simplicial complex). Let V be a set. A k-simplex is a unordered set {v 0 , . . . , v k } with v i ∈ V and v i 6= v j . '"
            ]
          },
          "metadata": {
            "tags": []
          },
          "execution_count": 6
        }
      ]
    },
    {
      "cell_type": "code",
      "metadata": {
        "id": "SlEC-VIJw_G2"
      },
      "source": [
        "output_Scientific_Literature =[]\n",
        "for i in range(len(df['Entertainment'])):\n",
        "  input_id = tokenizer.encode(df['Scientific Literature'][i][:120],return_tensors='pt')\n",
        "  output = model.generate(input_id.to(device),max_length=1000,do_sample=True,top_k=50,top_p=0.94)\n",
        "  output_Scientific_Literature.append(tokenizer.decode(output[0],skip_special_tokens=True))"
      ],
      "execution_count": null,
      "outputs": []
    },
    {
      "cell_type": "code",
      "metadata": {
        "colab": {
          "base_uri": "https://localhost:8080/"
        },
        "id": "XknWOP4ChSAb",
        "outputId": "24b13577-a676-4f0e-fce1-2c4e956b2da0"
      },
      "source": [
        "print(output_Scientific_Literature[2])"
      ],
      "execution_count": null,
      "outputs": [
        {
          "output_type": "stream",
          "text": [
            "Neuro-degenerative disease is a common progressive nervous system disorder that leads\n",
            "to serious clinical consequences.  A few days after a seizure, some patients have severe seizures that have caused their convulsions to collapse\n",
            "into seizures with other clinical signs.  This may be the start of an uncontrolled seizure.  Or it may be the start of a full blown seizure.  Either way, there is usually no recovery.  Many patients who receive medical attention and receive the treatment plan described in this\n",
            "article eventually recover.  The seizures are usually mild and manageable.\n",
            "Although most people recover within a few days, several thousand people are treated with medical care each year with no\n",
            "recovery, and some die.  A person who doesn't recover may require extensive treatment, possibly for life.  A\n",
            "treatable form of this disease cannot be learned because most diseases are inherited.  This means that we can treat some forms of this disease.  In fact, some\n",
            "cure are possible.\n",
            "There is no cure for epilepsy.  Most people who have this disease cannot learn how to control the seizures.  But you CAN learn how to\n",
            "control them safely and effectively with treatment that includes seizure prevention therapy, which has been\n",
            "shown to prevent or reduce seizures.  And these things are available on the drugstore.  So, this is the best you can hope for.\n",
            "There are a few things that prevent seizures:\n",
            "1.  Chronic stress.  Chronic stress can cause a seizure, too.  Many people with this disease experience chronic stress, but if they\n",
            "treat it before their seizures start, they can easily manage them.  There is no \"natural\" way to\n",
            "prevent epilepsy.  But there are some things that can prevent it.  These include eating healthy, getting enough exercise,\n",
            "training regularly, and taking pain-relieving medications.  The goal is to eat right so you won't be affected.  This\n",
            "is called eating a balanced diet.  If you're eating too much or taking too many medications, your seizures may improve.\n",
            "2.  Lifestyle changes.  Chronic stress can cause changes in the brain that can interfere with\n",
            "emotion regulation and emotions.  Some people may lose their sense of humor because of stressful situations.  These\n",
            "lifestyle changes will increase their sense of humor.  For example, if you take\n",
            "depressant drugs (like OxyContin) to make you less sensitive to stress, they can cause\n",
            "your body to respond by producing less of the neurotransmitters that make you feel\n",
            "hurt.  But if you treat those drugs with diet-supplemented exercise and medications that\n",
            "help prevent those reactions, those feelings can become much less intense.\n",
            "3.  Sleep hygiene.  When a person who has epilepsy has a seizure, it's\n",
            "often triggered by a sleep disorder.  So if you take\n",
            "antipsychotic medication (especially Zoloft), the seizures may be less intense.  But you still\n",
            "may have to take a sleeping pill every night.  But that is lessened by having a milder or\n",
            "normal seizure.  The seizures are usually very mild, but sometimes people are diagnosed with\n",
            "anorexia nervosa, because they may be sleep-deprived.  In that case, your medication may help reduce your\n",
            "possibility of seizures.\n",
            "4.  Preventing seizures.  Sometimes people with epilepsy have seizures because their brain has become too busy,\n",
            "too reactive, or too immature to function normally.  These conditions can make\n",
            "you less able to regulate your emotions, making it harder for you to control your emotions\n",
            "when you think about something painful or stressful.  This is called\n",
            "mental retardation.  It is important for your neurologist to talk to you\n",
            "about treatment options and what they can and can't do to keep your seizures\n",
            "alive.  You may also find these options through a family doctor if it\n",
            "washes up during surgery, but they are not common in the medical\n",
            "community these days.\n",
            "There are a few things that can help prevent seizures:\n",
            "1.  Exercising.  There are plenty of ways to encourage your brain to take\n",
            "more steps to stay awake, to learn more complex emotions and\n",
            "the way you think.  You will probably want to do some exercise\n",
            "that puts some emphasis on brain development and relaxation.  There is\n",
            "likely a medical condition associated with exercise called neuro-\n",
            "inflammation that slows the brain.  This is why most physicians discourage people\n",
            "from doing any type of exercise, whether physical or mental,\n",
            "because\n"
          ],
          "name": "stdout"
        }
      ]
    },
    {
      "cell_type": "code",
      "metadata": {
        "id": "zdllp4JoXIpc"
      },
      "source": [
        "output_Finance = []\n",
        "for i in range(len(df['Finance'])):\n",
        "  input_id = tokenizer.encode(df['Finance'][i][:120],return_tensors='pt')\n",
        "  output = model.generate(input_id.to(device),max_length=1000,do_sample=True,top_k=50,top_p=0.94)\n",
        "  output_Finance.append(tokenizer.decode(output[0],skip_special_tokens=True))"
      ],
      "execution_count": null,
      "outputs": []
    },
    {
      "cell_type": "code",
      "metadata": {
        "colab": {
          "base_uri": "https://localhost:8080/"
        },
        "id": "nQ8tUTW7nsOY",
        "outputId": "b03c166f-60a7-41a6-921f-8505886ad129"
      },
      "source": [
        "print(output_Finance[2])"
      ],
      "execution_count": null,
      "outputs": [
        {
          "output_type": "stream",
          "text": [
            "The company pays dividends to its shareholders. Dividends are paid to distribute the profits made by the company during  the year (not to purchase new machinery or plant).\n",
            "The dividends are paid at the end of the year to stockholders in an amount determined by dividing the value of the company's outstanding shares by the last dividend payment for the year or by an odd/even ratio depending on the year. Dividends to non-stockholders are also paid to their own stock. In other words, dividends paid to non-stockholders will be returned to the stockholders who purchased the stock for them, without the need to pay any taxes. These dividends are paid at market price (although some dividend payers may use this as a basis for determining if the value of the share is actually worth more or less than what it was worth in the year). A shareholding will be granted an amount of money equal to the original purchase price of the share, or a percentage of the original purchase price, whichever is smaller (unless it's less than the original purchase price, in which case only a percentage of the original purchase price is owed to the shareholder). At stockholders' election, the company may decide to issue a bond (which is usually sold for a nominal price, and that's usually an additional payment of the money earned) that gives the company some cash to buy machinery and plant, or to give them some interest on their investment. The company will provide tax-free status to the bond holder at the date of issue. These bond holders are generally treated as regular shareholders, as well as ordinary workers or part-time employees. They can contribute money (tax-free income), receive dividends and receive interest, however they can also do anything else the company chooses to do. Generally, dividends will be paid to shareholders in either shares or in cash (although they may in the future be paid to stockholders in stock), however their ultimate value (how much the dividends will help the company at a fixed price) cannot be determined by any method other than those listed above. This is one of the main differences between the stock method, or ordinary cash, and dividends paid in cash.\n",
            "A typical dividend, as calculated using cash: dividend ratio is given below. If it is not the most likely result, use the average return from all the stock method companies listed above. If you don't see it here, read it in its entirety.\n",
            "Percentage of Average Return (by stock)\n",
            "The same formula is used as the percentage of average return above. In case you're curious, the average stock return is a bit better than 100%. In this case, I chose 100% and it turned out that if you choose 100%, your investment was paid back in full when you sell it at the market price of $0.\n",
            "The following figure is the result of investing 100% in a company with an average return of.90%:\n"
          ],
          "name": "stdout"
        }
      ]
    },
    {
      "cell_type": "code",
      "metadata": {
        "id": "2LnDYvm3XTYr"
      },
      "source": [
        "output_Entertainment =[]\n",
        "for i in range(len(df['Entertainment'])):\n",
        "   input_id = tokenizer.encode(df['Entertainment'][i][:120],return_tensors='pt')\n",
        "   output = model.generate(input_id.to(device),max_length=1000,do_sample=True,top_k=50,top_p=0.94)\n",
        "   output_Entertainment.append(tokenizer.decode(output[0],skip_special_tokens=True))"
      ],
      "execution_count": null,
      "outputs": []
    },
    {
      "cell_type": "code",
      "metadata": {
        "colab": {
          "base_uri": "https://localhost:8080/"
        },
        "id": "c-ejcw1PoCA6",
        "outputId": "ccd66799-fe17-4bad-d305-f724682aee9e"
      },
      "source": [
        "print(output_Entertainment[3])"
      ],
      "execution_count": null,
      "outputs": [
        {
          "output_type": "stream",
          "text": [
            "Christopher Comstock (born May 19, 1992), known professionally as Marshmello, is an American electronic music producer a.k.a. DJ Marshmello. He is most famous for creating the electronic dance music genre known as EDM (Electronic Dance Music), along with his other producer partners (see above). After gaining fame for his electronic music production, Comstock left the industry after the formation of Def Jam Recordings as part of their move away from producing and releasing music. Comstock was later a featured guest on the popular Hip Hop/Electronic artist Q-Tip's 2010 album \"Q-Tip's Dark Matter Vol. 1\".\n",
            "\n",
            "Prior to being signed by Def Jam Records and then signed by Atlantic, Comstock was a member of the Detroit rap duo 2 Live Crew that released numerous hit songs. Later, he released his debut solo album titled D.O.C. in 2010. His debut album was released in 2012. In 2013 Comstock left the duo and formed his own, independent music group called the Marshmello Gang. Comstock is also an entrepreneur in music media and has launched several successful ventures including the popular MTV music television show, MTV's series Life is Good (with Q-Tip), a series of videos for his hip hop/electronic music brand, and a music video series for the popular YouTube hit series the Fresh Prince of Bel Air called Live: The Life and Times of Marshmello (2013). Comstock has also been the subject of several feature articles in Rolling Stone, The Los Angeles Times, The New York Times, Fast Company, and the New York Daily News and is a featured guest on the popular Internet talk show, The Last of Us.\n",
            "\n",
            "In addition to producing and co-hosting the popular \"The Beat Podcast\", which is a daily podcast that focuses exclusively on hip hop music and comedy. The podcast has garnered millions of views from online media and has been downloaded more than 25 million times. Comstock also was previously the music radio host of his own local radio station, 990 KCRW in Oakland, CA (1999-2002). Comstock started producing for The Beat in 2002 and also co-hosted the podcast with D.O.C. in 2002, 2003, and 2003-2004. In addition to being a regular guest on the \"Beat Podcast\" he also has appeared regularly on the \"WTMJ 790 AM\" talk show and as \"The DJ\". Comstock is a featured musician on a variety of recordings including the classic hip hop album, The Life and Times of The Fresh Prince of Bel Air by Quentin Crisp (2012).\n",
            "\n",
            "Prior to releasing his sophomore album titled I Know What You Did Last Summer (2013) Comstock worked with two other hip hop artists on tracks such as \"No One Beats You\" and \"What's So Funny About Me\". He has also worked with many independent artists such as Kanye West and Pusha T (although Pusha didn't produce the album, his vocal contribution did). Comstock is a former member of the hip hop group Q-Tip and recently released his debut solo album entitled D.O.C. (2013), which features guest performances from Kanye West, Dr. Dre, and Lil Wayne.\n",
            "\n",
            "On April 22nd, 2015 Comstock officially announced that he was officially leaving Def Jam and signing a record deal with Atlantic Records. Comstock has also worked with many international hip hop artists and is known for his diverse and eclectic career. Comstock is one of the producers of the Hip Hop and Hip Hop production group the Marshmello Gang.\n",
            "\n",
            "Early Life and Music\n",
            "\n",
            "Comstock was raised in Oakland, Michigan, the son of Joe Comstock and Janet Comstock. Comstock and Joe first got involved in hip hop when Joe was 5 years old singing in local church youth groups. The following year Joe bought two records at a record store. Joe had this music collection while he was in high school so Joe bought \"Bigger Than Life\" (the track from the record). The Comstock family moved into a home in Oakland back in 1970 when Joe's dad was in his mid-80s.\n",
            "\n",
            "Comstock was only 21 when the Comstock Music Festival was held at the Oakland Arena in April of 1970. His older brother, Mike Comstock, started working for Atlantic Records in 1971. Mike and Joe recorded and produced various rap records and started their own label, Comstock Records, as a promotion for their rap music career. Comstock's first album, \"My Way\", was released in 1973. The record was followed by records \"We The People\" (1974), \"One Love\", \"The New Muffler\" (1975), \"The Fresh Prince of Bel Air\" (1976), \"I Can't Get No Satisfaction\" (1978), \"Love & Hip Hop\" (1978) and \"Ace Of Spades\" (1980).\n"
          ],
          "name": "stdout"
        }
      ]
    },
    {
      "cell_type": "code",
      "metadata": {
        "id": "he3F23lpxqfF"
      },
      "source": [
        "df['Output_Scientific_Literature'] = output_Scientific_Literature\n",
        "df['Output_Finance'] = output_Finance\n",
        "df['Output_Entertainment'] = output_Entertainment"
      ],
      "execution_count": null,
      "outputs": []
    },
    {
      "cell_type": "code",
      "metadata": {
        "colab": {
          "base_uri": "https://localhost:8080/"
        },
        "id": "f_RLAWQfu2zQ",
        "outputId": "d3c5404d-9d9e-4c5d-adff-a9d5607f631e"
      },
      "source": [
        "df.head(5)"
      ],
      "execution_count": null,
      "outputs": [
        {
          "output_type": "execute_result",
          "data": {
            "text/html": [
              "<div>\n",
              "<style scoped>\n",
              "    .dataframe tbody tr th:only-of-type {\n",
              "        vertical-align: middle;\n",
              "    }\n",
              "\n",
              "    .dataframe tbody tr th {\n",
              "        vertical-align: top;\n",
              "    }\n",
              "\n",
              "    .dataframe thead th {\n",
              "        text-align: right;\n",
              "    }\n",
              "</style>\n",
              "<table border=\"1\" class=\"dataframe\">\n",
              "  <thead>\n",
              "    <tr style=\"text-align: right;\">\n",
              "      <th></th>\n",
              "      <th>Scientific Literature</th>\n",
              "      <th>Finance</th>\n",
              "      <th>Entertainment</th>\n",
              "      <th>Output_Scientific_Literature</th>\n",
              "      <th>Output_Finance</th>\n",
              "      <th>Output_Entertainment</th>\n",
              "    </tr>\n",
              "  </thead>\n",
              "  <tbody>\n",
              "    <tr>\n",
              "      <th>0</th>\n",
              "      <td>In this research, we mainly consider the traje...</td>\n",
              "      <td>Nineteen ninety-eight was a banner year for me...</td>\n",
              "      <td>In the desert outside of Albuquerque, New Mexi...</td>\n",
              "      <td>In this research, we mainly consider the traje...</td>\n",
              "      <td>Nineteen ninety-eight was a banner year for me...</td>\n",
              "      <td>In the desert outside of Albuquerque, New Mexi...</td>\n",
              "    </tr>\n",
              "    <tr>\n",
              "      <th>1</th>\n",
              "      <td>We propose a real-time method for odometry and...</td>\n",
              "      <td>Corporate restructuring is the process of sign...</td>\n",
              "      <td>The Marvel Cinematic Universe (MCU) is an Amer...</td>\n",
              "      <td>We propose a real-time method for odometry and...</td>\n",
              "      <td>Corporate restructuring is the process of sign...</td>\n",
              "      <td>The Marvel Cinematic Universe (MCU) is an Amer...</td>\n",
              "    </tr>\n",
              "    <tr>\n",
              "      <th>2</th>\n",
              "      <td>Neuro-degenerative disease is a common progres...</td>\n",
              "      <td>The company pays dividends to its shareholders...</td>\n",
              "      <td>Interstellar is a 2014 epic science fiction fi...</td>\n",
              "      <td>Neuro-degenerative disease is a common progres...</td>\n",
              "      <td>The company pays dividends to its shareholders...</td>\n",
              "      <td>Interstellar is a 2014 epic science fiction fi...</td>\n",
              "    </tr>\n",
              "    <tr>\n",
              "      <th>3</th>\n",
              "      <td>the language of graph theory, or network sci-e...</td>\n",
              "      <td>Firstly you need to know that, when you buy &amp; ...</td>\n",
              "      <td>Christopher Comstock (born May 19, 1992), know...</td>\n",
              "      <td>the language of graph theory, or network sci-e...</td>\n",
              "      <td>Firstly you need to know that, when you buy &amp; ...</td>\n",
              "      <td>Christopher Comstock (born May 19, 1992), know...</td>\n",
              "    </tr>\n",
              "    <tr>\n",
              "      <th>4</th>\n",
              "      <td>(Simplicial complex). Let V be a set. A k-simp...</td>\n",
              "      <td>As mentioned earlier, one of the key assumptio...</td>\n",
              "      <td>Katheryn Elizabeth Hudson (born October 25, 19...</td>\n",
              "      <td>(Simplicial complex). Let V be a set. A k-simp...</td>\n",
              "      <td>As mentioned earlier, one of the key assumptio...</td>\n",
              "      <td>Katheryn Elizabeth Hudson (born October 25, 19...</td>\n",
              "    </tr>\n",
              "  </tbody>\n",
              "</table>\n",
              "</div>"
            ],
            "text/plain": [
              "                               Scientific Literature  ...                               Output_Entertainment\n",
              "0  In this research, we mainly consider the traje...  ...  In the desert outside of Albuquerque, New Mexi...\n",
              "1  We propose a real-time method for odometry and...  ...  The Marvel Cinematic Universe (MCU) is an Amer...\n",
              "2  Neuro-degenerative disease is a common progres...  ...  Interstellar is a 2014 epic science fiction fi...\n",
              "3  the language of graph theory, or network sci-e...  ...  Christopher Comstock (born May 19, 1992), know...\n",
              "4  (Simplicial complex). Let V be a set. A k-simp...  ...  Katheryn Elizabeth Hudson (born October 25, 19...\n",
              "\n",
              "[5 rows x 6 columns]"
            ]
          },
          "metadata": {
            "tags": []
          },
          "execution_count": 14
        }
      ]
    },
    {
      "cell_type": "markdown",
      "metadata": {
        "id": "Zj415yMqZP2n"
      },
      "source": [
        "### Generating Bleu Score"
      ]
    },
    {
      "cell_type": "code",
      "metadata": {
        "id": "EYNehfSJ2DOU"
      },
      "source": [
        "def bleu(ref,gen):\n",
        "  gen_bleu= gen.split()\n",
        "  ref_bleu= ref.split()\n",
        "  if (len(gen_bleu)<len(ref_bleu)):\n",
        "    ref_bleu= ref_bleu[:len(gen_bleu)]\n",
        "  else:\n",
        "    gen_bleu= gen_bleu[:len(ref_bleu)]\n",
        "\n",
        "  smooth_func= SmoothingFunction()\n",
        "\n",
        "  score_bleu = corpus_bleu(ref_bleu, gen_bleu, smoothing_function=smooth_func.method4)\n",
        "  return score_bleu"
      ],
      "execution_count": null,
      "outputs": []
    },
    {
      "cell_type": "code",
      "metadata": {
        "id": "BMRbbaE2dWLr"
      },
      "source": [
        "bleu_score_Scientific_Literature = []\n",
        "bleu_score_Finance = []\n",
        "bleu_score_Entertainment =[]\n",
        "for i in range(len(df['Scientific Literature'])):\n",
        "  bleu_score_Scientific_Literature.append(bleu(df['Scientific Literature'][i],df['Output_Scientific_Literature'][i]))\n",
        "  bleu_score_Finance.append(bleu(df['Finance'][i],df['Output_Finance'][i]))\n",
        "  bleu_score_Entertainment.append(bleu(df['Entertainment'][i],df['Output_Entertainment'][i]))"
      ],
      "execution_count": null,
      "outputs": []
    },
    {
      "cell_type": "code",
      "metadata": {
        "colab": {
          "base_uri": "https://localhost:8080/"
        },
        "id": "udYdpeqNf1q-",
        "outputId": "1a023744-285f-4684-d6b9-5878f4b06c56"
      },
      "source": [
        "print(bleu_score_Scientific_Literature)\n",
        "print(bleu_score_Finance)\n",
        "print(bleu_score_Entertainment)"
      ],
      "execution_count": null,
      "outputs": [
        {
          "output_type": "stream",
          "text": [
            "[0.2019424004853405, 0.2371104024178205, 0.23672666227826938, 0.20534837836092149, 0.11892135587710198, 0.21338939351352168, 0.2223951346521911]\n",
            "[0.21659695214206487, 0.17860262318764877, 0.13796919272626945, 0.1972919663137782, 0.17901661242551145, 0.22156130962049986, 0.19615801656528542]\n",
            "[0.17857702616535523, 0.20120546855592913, 0.20058312737948802, 0.21210674070386765, 0.23176153795403995, 0.21550425296844197, 0.22358538312509277]\n"
          ],
          "name": "stdout"
        }
      ]
    },
    {
      "cell_type": "code",
      "metadata": {
        "id": "rOUtrVDQ474M"
      },
      "source": [
        "Bleu_Score = pd.DataFrame()\n",
        "Bleu_Score['bleu_score_Scientific_Literature'] = bleu_score_Scientific_Literature\n",
        "Bleu_Score['bleu_score_Finance'] = bleu_score_Finance\n",
        "Bleu_Score['bleu_score_Entertainment'] = bleu_score_Entertainment"
      ],
      "execution_count": null,
      "outputs": []
    },
    {
      "cell_type": "code",
      "metadata": {
        "id": "8wD2NgpuGWN5",
        "colab": {
          "base_uri": "https://localhost:8080/"
        },
        "outputId": "53388749-f552-42ea-b03d-f543cfa263d4"
      },
      "source": [
        "df.to_csv('/content/drive/MyDrive/DATASET/Output/OUTPUT-GENERATED-TEXT-GPT-2.csv')"
      ],
      "execution_count": null,
      "outputs": [
        {
          "output_type": "error",
          "ename": "SyntaxError",
          "evalue": "ignored",
          "traceback": [
            "\u001b[0;36m  File \u001b[0;32m\"<ipython-input-19-502ad661573e>\"\u001b[0;36m, line \u001b[0;32m1\u001b[0m\n\u001b[0;31m    df.to_csv('/content/drive/MyDrive/DATASET/Output/OUTPUT-GENERATED-TEXT-GPT-2.csv'')\u001b[0m\n\u001b[0m                                                                                       ^\u001b[0m\n\u001b[0;31mSyntaxError\u001b[0m\u001b[0;31m:\u001b[0m EOL while scanning string literal\n"
          ]
        }
      ]
    }
  ]
}